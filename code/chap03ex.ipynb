{
 "cells": [
  {
   "cell_type": "markdown",
   "metadata": {},
   "source": [
    "# Examples and Exercises from Think Stats, 2nd Edition\n",
    "\n",
    "http://thinkstats2.com\n",
    "\n",
    "Copyright 2016 Allen B. Downey\n",
    "\n",
    "MIT License: https://opensource.org/licenses/MIT\n"
   ]
  },
  {
   "cell_type": "code",
   "execution_count": 3,
   "metadata": {},
   "outputs": [],
   "source": [
    "from __future__ import print_function, division\n",
    "\n",
    "%matplotlib inline\n",
    "\n",
    "import numpy as np\n",
    "\n",
    "import nsfg\n",
    "import first\n",
    "import thinkstats2\n",
    "import thinkplot"
   ]
  },
  {
   "cell_type": "markdown",
   "metadata": {},
   "source": [
    "Again, I'll load the NSFG pregnancy file and select live births:"
   ]
  },
  {
   "cell_type": "code",
   "execution_count": 2,
   "metadata": {},
   "outputs": [],
   "source": [
    "preg = nsfg.ReadFemPreg()\n",
    "live = preg[preg.outcome == 1]"
   ]
  },
  {
   "cell_type": "markdown",
   "metadata": {},
   "source": [
    "Here's the histogram of birth weights:"
   ]
  },
  {
   "cell_type": "code",
   "execution_count": 3,
   "metadata": {},
   "outputs": [
    {
     "data": {
      "image/png": "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\n",
      "text/plain": [
       "<Figure size 432x288 with 1 Axes>"
      ]
     },
     "metadata": {
      "needs_background": "light"
     },
     "output_type": "display_data"
    }
   ],
   "source": [
    "hist = thinkstats2.Hist(live.birthwgt_lb, label='birthwgt_lb')\n",
    "thinkplot.Hist(hist)\n",
    "thinkplot.Config(xlabel='Birth weight (pounds)', ylabel='Count')"
   ]
  },
  {
   "cell_type": "markdown",
   "metadata": {},
   "source": [
    "To normalize the disrtibution, we could divide through by the total count:"
   ]
  },
  {
   "cell_type": "code",
   "execution_count": 4,
   "metadata": {},
   "outputs": [],
   "source": [
    "n = hist.Total()\n",
    "pmf = hist.Copy()\n",
    "for x, freq in hist.Items():\n",
    "    pmf[x] = freq / n"
   ]
  },
  {
   "cell_type": "markdown",
   "metadata": {},
   "source": [
    "The result is a Probability Mass Function (PMF)."
   ]
  },
  {
   "cell_type": "code",
   "execution_count": 5,
   "metadata": {},
   "outputs": [
    {
     "data": {
      "image/png": "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\n",
      "text/plain": [
       "<Figure size 432x288 with 1 Axes>"
      ]
     },
     "metadata": {},
     "output_type": "display_data"
    }
   ],
   "source": [
    "thinkplot.Hist(pmf)\n",
    "thinkplot.Config(xlabel='Birth weight (pounds)', ylabel='PMF')"
   ]
  },
  {
   "cell_type": "markdown",
   "metadata": {},
   "source": [
    "More directly, we can create a Pmf object."
   ]
  },
  {
   "cell_type": "code",
   "execution_count": 6,
   "metadata": {},
   "outputs": [
    {
     "data": {
      "text/plain": [
       "Pmf({1: 0.2, 2: 0.4, 3: 0.2, 5: 0.2})"
      ]
     },
     "execution_count": 6,
     "metadata": {},
     "output_type": "execute_result"
    }
   ],
   "source": [
    "pmf = thinkstats2.Pmf([1, 2, 2, 3, 5])\n",
    "pmf"
   ]
  },
  {
   "cell_type": "markdown",
   "metadata": {},
   "source": [
    "`Pmf` provides `Prob`, which looks up a value and returns its probability:"
   ]
  },
  {
   "cell_type": "code",
   "execution_count": 7,
   "metadata": {},
   "outputs": [
    {
     "data": {
      "text/plain": [
       "0.4"
      ]
     },
     "execution_count": 7,
     "metadata": {},
     "output_type": "execute_result"
    }
   ],
   "source": [
    "pmf.Prob(2)"
   ]
  },
  {
   "cell_type": "markdown",
   "metadata": {},
   "source": [
    "The bracket operator does the same thing."
   ]
  },
  {
   "cell_type": "code",
   "execution_count": 8,
   "metadata": {},
   "outputs": [
    {
     "data": {
      "text/plain": [
       "0.4"
      ]
     },
     "execution_count": 8,
     "metadata": {},
     "output_type": "execute_result"
    }
   ],
   "source": [
    "pmf[2]"
   ]
  },
  {
   "cell_type": "markdown",
   "metadata": {},
   "source": [
    "The `Incr` method adds to the probability associated with a given values."
   ]
  },
  {
   "cell_type": "code",
   "execution_count": 9,
   "metadata": {},
   "outputs": [
    {
     "data": {
      "text/plain": [
       "0.6000000000000001"
      ]
     },
     "execution_count": 9,
     "metadata": {},
     "output_type": "execute_result"
    }
   ],
   "source": [
    "pmf.Incr(2, 0.2)\n",
    "pmf[2]"
   ]
  },
  {
   "cell_type": "markdown",
   "metadata": {},
   "source": [
    "The `Mult` method multiplies the probability associated with a value."
   ]
  },
  {
   "cell_type": "code",
   "execution_count": 10,
   "metadata": {},
   "outputs": [
    {
     "data": {
      "text/plain": [
       "0.30000000000000004"
      ]
     },
     "execution_count": 10,
     "metadata": {},
     "output_type": "execute_result"
    }
   ],
   "source": [
    "pmf.Mult(2, 0.5)\n",
    "pmf[2]"
   ]
  },
  {
   "cell_type": "markdown",
   "metadata": {},
   "source": [
    "`Total` returns the total probability (which is no longer 1, because we changed one of the probabilities)."
   ]
  },
  {
   "cell_type": "code",
   "execution_count": 11,
   "metadata": {},
   "outputs": [
    {
     "data": {
      "text/plain": [
       "0.8999999999999999"
      ]
     },
     "execution_count": 11,
     "metadata": {},
     "output_type": "execute_result"
    }
   ],
   "source": [
    "pmf.Total()"
   ]
  },
  {
   "cell_type": "markdown",
   "metadata": {},
   "source": [
    "`Normalize` divides through by the total probability, making it 1 again."
   ]
  },
  {
   "cell_type": "code",
   "execution_count": 12,
   "metadata": {},
   "outputs": [
    {
     "data": {
      "text/plain": [
       "1.0"
      ]
     },
     "execution_count": 12,
     "metadata": {},
     "output_type": "execute_result"
    }
   ],
   "source": [
    "pmf.Normalize()\n",
    "pmf.Total()"
   ]
  },
  {
   "cell_type": "markdown",
   "metadata": {},
   "source": [
    "Here's the PMF of pregnancy length for live births."
   ]
  },
  {
   "cell_type": "code",
   "execution_count": 13,
   "metadata": {},
   "outputs": [],
   "source": [
    "pmf = thinkstats2.Pmf(live.prglngth, label='prglngth')"
   ]
  },
  {
   "cell_type": "markdown",
   "metadata": {},
   "source": [
    "Here's what it looks like plotted with `Hist`, which makes a bar graph."
   ]
  },
  {
   "cell_type": "code",
   "execution_count": 14,
   "metadata": {},
   "outputs": [
    {
     "data": {
      "image/png": "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\n",
      "text/plain": [
       "<Figure size 432x288 with 1 Axes>"
      ]
     },
     "metadata": {},
     "output_type": "display_data"
    }
   ],
   "source": [
    "thinkplot.Hist(pmf)\n",
    "thinkplot.Config(xlabel='Pregnancy length (weeks)', ylabel='Pmf')"
   ]
  },
  {
   "cell_type": "markdown",
   "metadata": {},
   "source": [
    "Here's what it looks like plotted with `Pmf`, which makes a step function."
   ]
  },
  {
   "cell_type": "code",
   "execution_count": 15,
   "metadata": {},
   "outputs": [
    {
     "data": {
      "image/png": "iVBORw0KGgoAAAANSUhEUgAAAYUAAAEKCAYAAAD9xUlFAAAABHNCSVQICAgIfAhkiAAAAAlwSFlzAAALEgAACxIB0t1+/AAAADl0RVh0U29mdHdhcmUAbWF0cGxvdGxpYiB2ZXJzaW9uIDIuMi4yLCBodHRwOi8vbWF0cGxvdGxpYi5vcmcvhp/UCwAAGkZJREFUeJzt3X2UFPWd7/H3R54XZ00CmPUKOMSHKGsEoVWerpsQkwvRwK7RxadzdfWE4IajubvJBu/uGq9uTkxiknUVz0rEo+aq+LRZSYTVHB9udAMJo/iEyIZLEGfxKOJD8CoPY773j6qptE3PdA90dc/0fF7ncKaq+tfV32rb/nT9qupXigjMzMwADmh0AWZm1ns4FMzMLONQMDOzjEPBzMwyDgUzM8s4FMzMLONQMDOzjEPBzMwyDgUzM8sMbHQBPTVy5MhobW1tdBlmZn3Kk08++XpEjKrUrs+FQmtrK21tbY0uw8ysT5H0UjXt3H1kZmYZh4KZmWUcCmZmlulzxxTK2bNnD+3t7ezcubPRpfQpQ4cOZfTo0QwaNKjRpZhZL9EUodDe3k5LSwutra1IanQ5fUJEsH37dtrb2xk3blyjyzGzXqIpuo927tzJiBEjHAg9IIkRI0Z478rMPqApQgFwIOwDv2dmVqopuo/MrO+7/5FnuGtlG7t279nrsSGDBzFvdoG5Myc0oLL+pWn2FPq6xx57jNNOO22fn3/LLbewdevWbL61tZXXX3+9FqWZ1UVXgQCwa/ce7lrpi1brwaFQR++//35u6y4NBbO+pqtAqPZxq41cu48kzQKuBQYAN0XE1SWPXwB8F/jPdNH1EXFTnjXlZfPmzcyaNYuTTjqJtWvXctRRR3Hbbbcxfvx4LrzwQh566CEWLlzI4YcfzkUXXcTw4cOZMWMGK1eu5Pnnn//Auq644gq2bNnCpk2b2LJlC1/5yle45JJLALjqqqu4/fbbGTNmDCNHjmTy5MnZ0B/nnnsuw4YNY9WqVQBcd911/OQnP2HPnj3cc889HH300XV/X8z2xX3XLsimv3DpPzewkv4nt1CQNABYDHwGaAfWSFoeES+UNL0rIhbW6nXz/AAVf1DL2bBhA0uXLmX69OlceOGF3HDDDUByPcATTzwBwLHHHsuSJUuYNm0aixYt6nJdL774Io8++ig7duzg4x//OBdffDHPPPMM9913H2vXrqWjo4NJkyYxefJkzjjjDK6//nquueYaCoVCto6RI0fy1FNPccMNN3DNNddw0019Mm/NrI7y7D46EdgYEZsiYjewDJib4+s13JgxY5g+fToA5513XhYE8+bNA+Ctt95ix44dTJs2DYBzzjmny3WdeuqpDBkyhJEjR3LwwQfz6quv8sQTTzB37lyGDRtGS0sLn//857ut5/TTTwdg8uTJbN68eX83z8z6gTxD4VDg5aL59nRZqS9IelbSvZLGlFuRpPmS2iS1bdu2LY9aa6L0FM/O+eHDhwPJBWPVGjJkSDY9YMAAOjo6evT84nV0Pt/MrJI8jymUOwm+9FvtJ8CdEbFL0gLgVmDmXk+KWAIsASgUCt1+M1bq4snTli1bWLVqFVOnTuXOO+9kxowZrF27Nnv8wx/+MC0tLaxevZopU6awbNmyHq1/xowZfOlLX+Kyyy6jo6ODBx54gC9+8YsAtLS0sGPHjppuj5n1P3nuKbQDxb/8RwMfOD0mIrZHxK509ofA5Bzryd0xxxzDrbfeynHHHccbb7zBxRdfvFebpUuXMn/+fKZOnUpEcNBBB1W9/hNOOIE5c+YwYcIETj/9dAqFQvb8Cy64gAULFjBx4kTee++9mm2TmfUv6mmXRNUrlgYC/wF8muTsojXAORGxrqjNIRHxSjr9Z8DXI2JKd+stFApRepOd9evXc8wxx9R4C3pm8+bNnHbaaXudSVTqnXfe4cADDwTg6quv5pVXXuHaa6+t+nU6n//uu+9y8skns2TJEiZNmrTPdfeG984MPniSSFdnHzWyJ6Cvk/RkRBQqtcut+ygiOiQtBB4kOSX15ohYJ+lKoC0ilgOXSJoDdABvABfkVU9v8cADD/Ctb32Ljo4ODjvsMG655ZYePX/+/Pm88MIL7Ny5k/PPP3+/AsHMrFSu1ylExApgRcmyy4umLwMuy7OGemltba24lwDJmUidZyPtizvuuGOfn2tmVknTXNGcVzdYM/N7ZmalmiIUhg4dyvbt2/0l1wOd91MYOnRoo0sxs16kKUZJHT16NO3t7fTmaxh6o847r5mZdWqKUBg0aJDvHmZmVgNN0X1kZma14VAwM7OMQ8HMzDIOBTMzyzgUzMws41AwM7OMQ8HMzDIOBTMzyzgUzMws41AwM7OMQ8HMzDIOBTMzyzgUzMws41AwM7OMQ8HMzDIOBTMzyzgUzMws41AwM7OMQ8HMzDIOBTMzyzgUzMws41AwM7OMQ8HMzDIOBTMzyzgUzMwsk2soSJolaYOkjZIWddPuDEkhqZBnPWZm1r3cQkHSAGAxMBsYD5wtaXyZdi3AJcAv86rFzMyqk+eewonAxojYFBG7gWXA3DLtrgK+A+zMsRYzM6tCnqFwKPBy0Xx7uiwj6XhgTET8NMc6zMysSnmGgsosi+xB6QDgB8BfV1yRNF9Sm6S2bdu21bBEMzMrlmcotANjiuZHA1uL5luAY4HHJG0GpgDLyx1sjoglEVGIiMKoUaNyLNnMrH/LMxTWAEdKGidpMHAWsLzzwYh4OyJGRkRrRLQCq4E5EdGWY01mZtaN3EIhIjqAhcCDwHrg7ohYJ+lKSXPyel0zM9t3A/NceUSsAFaULLu8i7afzLMWMzOrzFc0m5lZxqFgZmYZh4KZmWUcCmZmlnEomJlZxqFgZmYZh4KZmWUcCmZmlnEomJlZxqFgZmYZh4KZmWUcCmZmlnEomJlZxqFgZmYZh4KZmWUcCmZmlnEomJlZxqFgZmYZh4KZmWUcCmZmlnEomJlZxqFgZmYZh4KZmWUcCmZmlnEomJlZxqFgZmYZh4KZmWUcCmZmlnEomJlZxqFgZmaZXENB0ixJGyRtlLSozOMLJD0n6WlJT0gan2c9ZmbWvdxCQdIAYDEwGxgPnF3mS/+OiPhEREwEvgN8P696zMyssjz3FE4ENkbEpojYDSwD5hY3iIjfFs0OByLHeszMrIKBOa77UODlovl24KTSRpK+DPwVMBiYWW5FkuYD8wHGjh1b80LNzCyR556Cyizba08gIhZHxOHA14G/K7eiiFgSEYWIKIwaNarGZZqZWac8Q6EdGFM0PxrY2k37ZcCf5liPmZlVkGcorAGOlDRO0mDgLGB5cQNJRxbNngr8Osd6zMysgtyOKUREh6SFwIPAAODmiFgn6UqgLSKWAwslnQLsAd4Ezs+rHjMzqyzPA81ExApgRcmyy4umL83z9c3MrGd8RbOZmWUcCmZmlnEomJlZpttQkHRm+ndcfcoxM7NGqrSncFn69768CzEzs8ardPbRdkmPAuMkLS99MCLm5FOWmZk1QqVQOBWYBPwI+F7+5ZiZWSN1Gwrp6KarJU2LiG11qsnMzBqk2ovXDpO0BDis+DkRcVwuVZmZWUNUGwq3A18DngN+l185ZmbWSNWGwrZ0rCIzM2ti1YbCNyTdBDwM7OpcGBH/kktVZmbWENWGwl8ARwOD+H33UQAOBTOzJlJtKEyIiE/kWomZmTVctWMfrZY0PtdKzMys4ardU5gBnC/pNyTHFASET0k1M2su1YbCrFyrMDOzXqHbUJA0FFgAHEFyjcLSiOioR2FmZlZ/lY4p3AoUSAJhNh7/yMysqVXqPhrfedaRpKXAr/IvyczMGqXSnsKezgl3G5mZNb9KewoTJP02nRYwLJ3vPPvoD3OtzszM6qrS0NkD6lWImZk1XrUXr5mZWT/gUDAzs4xDwczMMg4FMzPLOBTMzCzjUDAzs0yuoSBplqQNkjZKWlTm8b+S9IKkZyU9LOmwPOsxM7Pu5RYKkgYAi0nGTBoPnF3mngxrgUI6BPe9wHfyqsfMzCrLc0/hRGBjRGyKiN3AMmBucYOIeDQi3k1nVwOjc6zHzMwqyDMUDgVeLppvT5d15SJgZY71mJlZBdXeZGdfqMyyKNtQOo9kiO4/6eLx+cB8gLFjx9aqPjMzK5HnnkI7MKZofjSwtbSRpFOAvwXmRMSuciuKiCURUYiIwqhRo3Ip1szM8g2FNcCRksZJGgycBSwvbiDpeOBGkkB4LcdazMysCrmFQnr/hYXAg8B64O6IWCfpSklz0mbfBQ4E7pH0tKTlXazOzMzqIM9jCkTECmBFybLLi6ZPyfP1zcysZ3xFs5mZZRwKZmaWcSiYmVnGoWBmZhmHgpmZZRwKZmaWcSiYmVnGoWBmZhmHgpmZZRwKZmaWcSiYmVnGoWBmZhmHgpmZZRwKZmaWcSiYmVnGoWBmZhmHgpmZZRwKZmaWcSiYmVnGoWBmZhmHgpmZZRwKZmaWcSiYmVnGoWBmZpmBjS7AzKxaX7j0nz8wP2TwIObNLjB35oQGVdR8vKdgZr3akMGDunxs1+493LWyrY7VND+Hgpn1avNmFyoGg9WOu4/MrFebO3NC2e6h0q4kqw3vKZiZWcahYGZmmVxDQdIsSRskbZS0qMzjJ0t6SlKHpDPyrMXMzCrLLRQkDQAWA7OB8cDZksaXNNsCXADckVcdZmZWvTwPNJ8IbIyITQCSlgFzgRc6G0TE5vSx3+VYh5mZVSnP7qNDgZeL5tvTZT0mab6kNklt27Ztq0lxZma2tzxDQWWWxb6sKCKWREQhIgqjRo3az7LMzKwreYZCOzCmaH40sDXH1zMzs/2UZyisAY6UNE7SYOAsYHmOr2dmZvspt1CIiA5gIfAgsB64OyLWSbpS0hwASSdIagfOBG6UtC6veszMrLJch7mIiBXAipJllxdNryHpVjIzs17AVzSbmVnGoWBmZhmHgpmZZRwKZmaWcSiYmVnGoWBmZhnfec3M6ur+R57hrpVtvo1mL+VQMLO6qhQI3d2PuSult+YcMngQ82YXyt7G07rn7iMzq6tKgTBvdqGq9XQXHrt27+GulW09rs28p2BmDXTftQv2+bnzZhe63etw99S+cSiYWZ80d+aEst1DpV1J1jPuPjIzs4xDwczMMu4+MrNc+NTTvsl7CmaWizxOPbX8ORTMLBe1OvXU6svdR2aWu/059dTqy3sKZmaW8Z6Cme2X3nxA2cNf9JxDwcyqsq9f/vU+oDxk8KBur3K+a2WbQ6Eb7j4ys6rsayDU+4DyvNmFiuMiWde8p2BmVanmbKLe8Avcw1/sH4eCmfWYzyZqXu4+MjOzjEPBzMwyDgUzM8v4mIJZH9PdqaG96YBvb+brF7rmUDDrYyrdbaz0PHyHSMLXL1TH3UdmfUyl8+xLH68mRPoDX79QnVz3FCTNAq4FBgA3RcTVJY8PAW4DJgPbgXkRsTnPmsyaSfGpoV2dh9/TEOnNw1bsD1+/UJ3cQkHSAGAx8BmgHVgjaXlEvFDU7CLgzYg4QtJZwLeBeXnVZFYPvbm7pqsQ6ckXYzPfB8HHGvLdUzgR2BgRmwAkLQPmAsWhMBe4Ip2+F7hekiIicqzLrMe6+qIv96VRyz7/fVXNl3x3fezdPafZ7oNQ6VjDbfev4rb7V+31nGYNizxD4VDg5aL5duCkrtpERIekt4ERwOu1Lsa7iJaHrr40Kj2nFp/H0l/slb7kS9vPm13otXs09dTd+9CVffnvXkt5XlGeZyiozLLSPYBq2iBpPjAfYOzYsftfmVkdDBk8iDu+e1E2f87XltZsb6DcL/ZqvuSLddXH3t909T4067GVSvIMhXZgTNH8aGBrF23aJQ0EDgLeKF1RRCwBlgAUCgV3LVlDlP56rubYQbG8f5n7S762+mtYKK/u+/RL/j+ATwP/CawBzomIdUVtvgx8IiIWpAeaT4+IP+9uvYVCIdra+scpdGZmtSLpyYioeEAotz2F9BjBQuBBklNSb46IdZKuBNoiYjmwFPiRpI0kewhn5VWPmZlVlut1ChGxAlhRsuzyoumdwJl51mBmZtXzFc1mZpZxKJiZWcahYGZmGYeCmZllHApmZpbJ7TqFvEjaBrxUg1WNJIfhNHoxb2/z6k/bCt7efXVYRIyq1KjPhUKtSGqr5kKOZuHtbV79aVvB25s3dx+ZmVnGoWBmZpn+HApLGl1AnXl7m1d/2lbw9uaq3x5TMDOzvfXnPQUzMyvRL0NB0ixJGyRtlLSo0fXUmqSbJb0m6fmiZR+R9DNJv07/friRNdaKpDGSHpW0XtI6SZemy5t1e4dK+pWkZ9Lt/V/p8nGSfplu712SBje61lqRNEDSWkk/TeebeVs3S3pO0tOS2tJldf0s97tQkDQAWAzMBsYDZ0sa39iqau4WYFbJskXAwxFxJPBwOt8MOoC/johjgCnAl9P/ns26vbuAmRExAZgIzJI0Bfg28IN0e98ELupmHX3NpcD6ovlm3laAT0XExKLTUOv6We53oQCcCGyMiE0RsRtYBsxtcE01FRE/Z+872M0Fbk2nbwX+tK5F5SQiXomIp9LpHSRfHofSvNsbEfFOOjso/RfATODedHnTbK+k0cCpwE3pvGjSbe1GXT/L/TEUDgVeLppvT5c1u49GxCuQfJECBze4npqT1AocD/ySJt7etDvlaeA14GfA/wXeioiOtEkzfab/Efgb4Hfp/Aiad1shCfiHJD2Z3pse6vxZzvUmO72UyizzKVh9nKQDgfuAr0TEb5MflM0pIt4HJkr6EPBj4JhyzepbVe1JOg14LSKelPTJzsVlmvb5bS0yPSK2SjoY+JmkF+tdQH/cU2gHxhTNjwa2NqiWenpV0iEA6d/XGlxPzUgaRBIIt0fEv6SLm3Z7O0XEW8BjJMdSPpTeFx2a5zM9HZgjaTNJN+9Mkj2HZtxWACJia/r3NZLAP5E6f5b7YyisAY5Mz2AYTHJf6OUNrqkelgPnp9PnA/c3sJaaSfuYlwLrI+L7RQ816/aOSvcQkDQMOIXkOMqjwBlps6bY3oi4LCJGR0Qryf+nj0TEuTThtgJIGi6ppXMa+CzwPHX+LPfLi9ckfY7kF8cA4OaI+GaDS6opSXcCnyQZXfFV4BvAvwJ3A2OBLcCZEVF6MLrPkTQDeBx4jt/3O/9PkuMKzbi9x5EcbBxA8qPu7oi4UtLHSH5NfwRYC5wXEbsaV2ltpd1HX42I05p1W9Pt+nE6OxC4IyK+KWkEdfws98tQMDOz8vpj95GZmXXBoWBmZhmHgpmZZRwKZmaWcSiYmVnGoWA1I+n9dHTH5yXdI+kPGl1TLUl6p3KrHq9zYnqKdOf8FZK+WsXzJOkRSX9Y65rS9T8mqar7Aku6RtLMPOqw+nMoWC29l47ueCywG1hQ/GD6RebP3AdNBD5XsdXePgc8ExG/rXE9++I6mmcU2n7P/4NaXh4HjpDUmt7r4AbgKWCMpM9KWiXpqXSP4kBILiqU9KKkJyT9U9H4+VcouUfEY5I2Sbqk80Uk/Ws6eNi6ogHEkPSOpG+m9x1YLemj6fKPSvpxuvwZSdMkXaX0Pgxpm28Wv0Y5kr4maY2kZ/X7exp0busP03oeSq86RtIJadtVkr6b7k0NBq4E5qV7WPPS1Y8vt60lziW9slXS33S2k/QDSY+k05+W9L/T6a7e88mS/k/6Hj7YOZxC0XYeIOlWSf+gZCC+W9Lan5P0PwAi4iVghKQ/6u49sz4iIvzP/2ryD3gn/TuQ5AvrYqCV5ErjKeljI4GfA8PT+a8DlwNDSUavHZcuvxP4aTp9BfALYEj6/O3AoPSxj6R/h5EMCTAinQ/g8+n0d4C/S6fvIhk0D5Krgg9Ka3wqXXYAyaijI7rZvs+S3DdXafufAien6+kAJqbt7ia52pa0tmnp9NXA8+n0BcD1Ra/R5baW1PIS0JJOTwHuSacfB35FMqT2N4AvdfOeD0pfa1S6fB7JFf7w+zGV7gT+Nl02GfhZUQ0fKpr+IfCFRn8G/W////XHUVItP8OUDOkMyZfTUuC/AC9FxOp0+RSSmxv9ezJsEYOBVcDRwKaI+E3a7k4g++UPPBDJUAa7JL0GfJRkcMNLJP1Z2mYMcCTJF+luki9rgCeBz6TTM4H/Dtloo28Db0vaLun4dL1rI2J7N9v52fTf2nT+wPR1twC/iYjO9+BJoFXJWEUtEfGLdPkdwGndrL+rbS32kUjuH9H5OpPTcXN2keyRFYD/ClxC1+/5x4FjSUbjhCQkXyl6jRtJhtHoHAZmE/AxSdcBDwAPFbV9jeS/tfVxDgWrpfciYmLxgvTL5v8VLyL5tXl2SbvjK6y7eGyb94GB6Xg4pwBTI+JdSY+R7HEA7ImIKG5fYf03kfxq/yPg5gptBXwrIm4s2YbWMnUOo/xwz93Za1vLtOmQdEBE/C4i9igZSfQvSH75Pwt8CjicZLC8wyn/nn8CWBcRU7uo4xfApyR9LyJ2RsSbkiYA/w34MvDnwIVp26HAez3cTuuFfEzB6m01MF3SEQCS/kDSUcCLJL9CW9N288o//QMOAt5MA+Fokl/ElTxM0q3VebOazrN3fkxyC9MTgAcrrONB4MKifvlDlYx/X1ZEvAnsUHLbTEhG/Oy0A2ipou5SG4CPFc3/HPhq+vdxkoP8T6fB2NV7vgEYJWlqunyQpD8uWudSYAVwj6SBkkYCB0TEfcDfA5OK2h5F0kVmfZxDweoqIraR/CK/U9KzJF9YR0fEe8BfAv8m6QmS0V3frrC6fyPZY3gWuCpdVyWXkvz6fY6k2+WP07p2kwzJfHfardTdNjxE0gW0Kl3PvVT+Yr8IWCJpFcmeQ+e2PUpyYLn4QHM1HiAZCbfT48AhwKqIeBXYmS7r7j3fTTIE9bclPQM8DUwr2dbvk3RH/YjkDmePpV2EtwCXQXY/iyOAth7Ub72UR0m1XkPSgRHxjpI+p8XAryPiB3V67QNIvvzOjIhf57D+AyO9t7KkRcAhEXFphad1t75DgNsi4jMVG+csPaYzKSL+vtG12P7znoL1Jl9Mf4WuI+kaurFC+5qQNB7YCDycRyCkTk33Bp4nOQD8D/uzskju1ftD5XTxWg8NBL7X6CKsNrynYGZmGe8pmJlZxqFgZmYZh4KZmWUcCmZmlnEomJlZxqFgZmaZ/w/H5uhdYRXu4gAAAABJRU5ErkJggg==\n",
      "text/plain": [
       "<Figure size 432x288 with 1 Axes>"
      ]
     },
     "metadata": {},
     "output_type": "display_data"
    }
   ],
   "source": [
    "thinkplot.Pmf(pmf)\n",
    "thinkplot.Config(xlabel='Pregnancy length (weeks)', ylabel='Pmf')"
   ]
  },
  {
   "cell_type": "markdown",
   "metadata": {},
   "source": [
    "We can use `MakeFrames` to return DataFrames for all live births, first babies, and others."
   ]
  },
  {
   "cell_type": "code",
   "execution_count": 16,
   "metadata": {},
   "outputs": [],
   "source": [
    "live, firsts, others = first.MakeFrames()"
   ]
  },
  {
   "cell_type": "markdown",
   "metadata": {},
   "source": [
    "Here are the distributions of pregnancy length."
   ]
  },
  {
   "cell_type": "code",
   "execution_count": 17,
   "metadata": {},
   "outputs": [],
   "source": [
    "first_pmf = thinkstats2.Pmf(firsts.prglngth, label='firsts')\n",
    "other_pmf = thinkstats2.Pmf(others.prglngth, label='others')"
   ]
  },
  {
   "cell_type": "markdown",
   "metadata": {},
   "source": [
    "And here's the code that replicates one of the figures in the chapter."
   ]
  },
  {
   "cell_type": "code",
   "execution_count": 19,
   "metadata": {},
   "outputs": [
    {
     "data": {
      "image/png": "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\n",
      "text/plain": [
       "<Figure size 864x432 with 2 Axes>"
      ]
     },
     "metadata": {
      "needs_background": "light"
     },
     "output_type": "display_data"
    }
   ],
   "source": [
    "width=0.45\n",
    "axis = [27, 46, 0, 0.6]\n",
    "thinkplot.PrePlot(2, cols=2)\n",
    "thinkplot.Hist(first_pmf, align='right', width=width)\n",
    "thinkplot.Hist(other_pmf, align='left', width=width)\n",
    "thinkplot.Config(xlabel='Pregnancy length(weeks)', ylabel='PMF', axis=axis)\n",
    "\n",
    "thinkplot.PrePlot(2)\n",
    "thinkplot.SubPlot(2)\n",
    "thinkplot.Pmfs([first_pmf, other_pmf])\n",
    "thinkplot.Config(xlabel='Pregnancy length(weeks)', axis=axis)"
   ]
  },
  {
   "cell_type": "markdown",
   "metadata": {},
   "source": [
    "Here's the code that generates a plot of the difference in probability (in percentage points) between first babies and others, for each week of pregnancy (showing only pregnancies considered \"full term\"). "
   ]
  },
  {
   "cell_type": "code",
   "execution_count": 19,
   "metadata": {},
   "outputs": [
    {
     "data": {
      "image/png": "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\n",
      "text/plain": [
       "<Figure size 432x288 with 1 Axes>"
      ]
     },
     "metadata": {},
     "output_type": "display_data"
    }
   ],
   "source": [
    "weeks = range(35, 46)\n",
    "diffs = []\n",
    "for week in weeks:\n",
    "    p1 = first_pmf.Prob(week)\n",
    "    p2 = other_pmf.Prob(week)\n",
    "    diff = 100 * (p1 - p2)\n",
    "    diffs.append(diff)\n",
    "\n",
    "thinkplot.Bar(weeks, diffs)\n",
    "thinkplot.Config(xlabel='Pregnancy length(weeks)', ylabel='Difference (percentage points)')\n"
   ]
  },
  {
   "cell_type": "markdown",
   "metadata": {},
   "source": [
    "### Biasing and unbiasing PMFs\n",
    "\n",
    "Here's the example in the book showing operations we can perform with `Pmf` objects.\n",
    "\n",
    "Suppose we have the following distribution of class sizes."
   ]
  },
  {
   "cell_type": "code",
   "execution_count": 20,
   "metadata": {},
   "outputs": [],
   "source": [
    "d = { 7: 8, 12: 8, 17: 14, 22: 4, \n",
    "     27: 6, 32: 12, 37: 8, 42: 3, 47: 2 }\n",
    "\n",
    "pmf = thinkstats2.Pmf(d, label='actual')"
   ]
  },
  {
   "cell_type": "markdown",
   "metadata": {},
   "source": [
    "This function computes the biased PMF we would get if we surveyed students and asked about the size of the classes they are in."
   ]
  },
  {
   "cell_type": "code",
   "execution_count": 22,
   "metadata": {},
   "outputs": [],
   "source": [
    "def BiasPmf(pmf, label):\n",
    "    new_pmf = pmf.Copy(label=label)\n",
    "\n",
    "    for x, p in pmf.Items():\n",
    "        new_pmf.Mult(x, x)\n",
    "        \n",
    "    new_pmf.Normalize() \n",
    "    return new_pmf"
   ]
  },
  {
   "cell_type": "markdown",
   "metadata": {},
   "source": [
    "The following graph shows the difference between the actual and observed distributions."
   ]
  },
  {
   "cell_type": "code",
   "execution_count": 23,
   "metadata": {},
   "outputs": [
    {
     "data": {
      "image/png": "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\n",
      "text/plain": [
       "<Figure size 432x288 with 1 Axes>"
      ]
     },
     "metadata": {
      "needs_background": "light"
     },
     "output_type": "display_data"
    }
   ],
   "source": [
    "biased_pmf = BiasPmf(pmf, label='observed')\n",
    "thinkplot.PrePlot(2)\n",
    "thinkplot.Pmfs([pmf, biased_pmf])\n",
    "thinkplot.Config(xlabel='Class size', ylabel='PMF')"
   ]
  },
  {
   "cell_type": "markdown",
   "metadata": {},
   "source": [
    "The observed mean is substantially higher than the actual."
   ]
  },
  {
   "cell_type": "code",
   "execution_count": 24,
   "metadata": {},
   "outputs": [
    {
     "name": "stdout",
     "output_type": "stream",
     "text": [
      "Actual mean 23.692307692307693\n",
      "Observed mean 29.123376623376625\n"
     ]
    }
   ],
   "source": [
    "print('Actual mean', pmf.Mean())\n",
    "print('Observed mean', biased_pmf.Mean())"
   ]
  },
  {
   "cell_type": "markdown",
   "metadata": {},
   "source": [
    "If we were only able to collect the biased sample, we could \"unbias\" it by applying the inverse operation."
   ]
  },
  {
   "cell_type": "code",
   "execution_count": 25,
   "metadata": {},
   "outputs": [],
   "source": [
    "def UnbiasPmf(pmf, label=None):\n",
    "    new_pmf = pmf.Copy(label=label)\n",
    "\n",
    "    for x, p in pmf.Items():\n",
    "        new_pmf[x] *= 1/x\n",
    "        \n",
    "    new_pmf.Normalize()\n",
    "    return new_pmf"
   ]
  },
  {
   "cell_type": "markdown",
   "metadata": {},
   "source": [
    "We can unbias the biased PMF:"
   ]
  },
  {
   "cell_type": "code",
   "execution_count": 26,
   "metadata": {},
   "outputs": [
    {
     "name": "stdout",
     "output_type": "stream",
     "text": [
      "Unbiased mean 23.69230769230769\n"
     ]
    }
   ],
   "source": [
    "unbiased = UnbiasPmf(biased_pmf, label='unbiased')\n",
    "print('Unbiased mean', unbiased.Mean())"
   ]
  },
  {
   "cell_type": "markdown",
   "metadata": {},
   "source": [
    "And plot the two distributions to confirm they are the same."
   ]
  },
  {
   "cell_type": "code",
   "execution_count": 27,
   "metadata": {},
   "outputs": [
    {
     "data": {
      "image/png": "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\n",
      "text/plain": [
       "<Figure size 432x288 with 1 Axes>"
      ]
     },
     "metadata": {
      "needs_background": "light"
     },
     "output_type": "display_data"
    }
   ],
   "source": [
    "thinkplot.PrePlot(2)\n",
    "thinkplot.Pmfs([pmf, unbiased])\n",
    "thinkplot.Config(xlabel='Class size', ylabel='PMF')"
   ]
  },
  {
   "cell_type": "markdown",
   "metadata": {},
   "source": [
    "### Pandas indexing\n",
    "\n",
    "Here's an example of a small DataFrame."
   ]
  },
  {
   "cell_type": "code",
   "execution_count": 28,
   "metadata": {},
   "outputs": [
    {
     "data": {
      "text/html": [
       "<div>\n",
       "<style scoped>\n",
       "    .dataframe tbody tr th:only-of-type {\n",
       "        vertical-align: middle;\n",
       "    }\n",
       "\n",
       "    .dataframe tbody tr th {\n",
       "        vertical-align: top;\n",
       "    }\n",
       "\n",
       "    .dataframe thead th {\n",
       "        text-align: right;\n",
       "    }\n",
       "</style>\n",
       "<table border=\"1\" class=\"dataframe\">\n",
       "  <thead>\n",
       "    <tr style=\"text-align: right;\">\n",
       "      <th></th>\n",
       "      <th>0</th>\n",
       "      <th>1</th>\n",
       "    </tr>\n",
       "  </thead>\n",
       "  <tbody>\n",
       "    <tr>\n",
       "      <th>0</th>\n",
       "      <td>1.210701</td>\n",
       "      <td>0.999371</td>\n",
       "    </tr>\n",
       "    <tr>\n",
       "      <th>1</th>\n",
       "      <td>-1.412353</td>\n",
       "      <td>0.714842</td>\n",
       "    </tr>\n",
       "    <tr>\n",
       "      <th>2</th>\n",
       "      <td>-0.554316</td>\n",
       "      <td>-0.115061</td>\n",
       "    </tr>\n",
       "    <tr>\n",
       "      <th>3</th>\n",
       "      <td>-0.611618</td>\n",
       "      <td>-2.064568</td>\n",
       "    </tr>\n",
       "  </tbody>\n",
       "</table>\n",
       "</div>"
      ],
      "text/plain": [
       "          0         1\n",
       "0  1.210701  0.999371\n",
       "1 -1.412353  0.714842\n",
       "2 -0.554316 -0.115061\n",
       "3 -0.611618 -2.064568"
      ]
     },
     "execution_count": 28,
     "metadata": {},
     "output_type": "execute_result"
    }
   ],
   "source": [
    "import numpy as np\n",
    "import pandas\n",
    "array = np.random.randn(4, 2)\n",
    "df = pandas.DataFrame(array)\n",
    "df"
   ]
  },
  {
   "cell_type": "markdown",
   "metadata": {},
   "source": [
    "We can specify column names when we create the DataFrame:"
   ]
  },
  {
   "cell_type": "code",
   "execution_count": 29,
   "metadata": {},
   "outputs": [
    {
     "data": {
      "text/html": [
       "<div>\n",
       "<style scoped>\n",
       "    .dataframe tbody tr th:only-of-type {\n",
       "        vertical-align: middle;\n",
       "    }\n",
       "\n",
       "    .dataframe tbody tr th {\n",
       "        vertical-align: top;\n",
       "    }\n",
       "\n",
       "    .dataframe thead th {\n",
       "        text-align: right;\n",
       "    }\n",
       "</style>\n",
       "<table border=\"1\" class=\"dataframe\">\n",
       "  <thead>\n",
       "    <tr style=\"text-align: right;\">\n",
       "      <th></th>\n",
       "      <th>A</th>\n",
       "      <th>B</th>\n",
       "    </tr>\n",
       "  </thead>\n",
       "  <tbody>\n",
       "    <tr>\n",
       "      <th>0</th>\n",
       "      <td>1.210701</td>\n",
       "      <td>0.999371</td>\n",
       "    </tr>\n",
       "    <tr>\n",
       "      <th>1</th>\n",
       "      <td>-1.412353</td>\n",
       "      <td>0.714842</td>\n",
       "    </tr>\n",
       "    <tr>\n",
       "      <th>2</th>\n",
       "      <td>-0.554316</td>\n",
       "      <td>-0.115061</td>\n",
       "    </tr>\n",
       "    <tr>\n",
       "      <th>3</th>\n",
       "      <td>-0.611618</td>\n",
       "      <td>-2.064568</td>\n",
       "    </tr>\n",
       "  </tbody>\n",
       "</table>\n",
       "</div>"
      ],
      "text/plain": [
       "          A         B\n",
       "0  1.210701  0.999371\n",
       "1 -1.412353  0.714842\n",
       "2 -0.554316 -0.115061\n",
       "3 -0.611618 -2.064568"
      ]
     },
     "execution_count": 29,
     "metadata": {},
     "output_type": "execute_result"
    }
   ],
   "source": [
    "columns = ['A', 'B']\n",
    "df = pandas.DataFrame(array, columns=columns)\n",
    "df"
   ]
  },
  {
   "cell_type": "markdown",
   "metadata": {},
   "source": [
    "We can also specify an index that contains labels for the rows."
   ]
  },
  {
   "cell_type": "code",
   "execution_count": 30,
   "metadata": {},
   "outputs": [
    {
     "data": {
      "text/html": [
       "<div>\n",
       "<style scoped>\n",
       "    .dataframe tbody tr th:only-of-type {\n",
       "        vertical-align: middle;\n",
       "    }\n",
       "\n",
       "    .dataframe tbody tr th {\n",
       "        vertical-align: top;\n",
       "    }\n",
       "\n",
       "    .dataframe thead th {\n",
       "        text-align: right;\n",
       "    }\n",
       "</style>\n",
       "<table border=\"1\" class=\"dataframe\">\n",
       "  <thead>\n",
       "    <tr style=\"text-align: right;\">\n",
       "      <th></th>\n",
       "      <th>A</th>\n",
       "      <th>B</th>\n",
       "    </tr>\n",
       "  </thead>\n",
       "  <tbody>\n",
       "    <tr>\n",
       "      <th>a</th>\n",
       "      <td>1.210701</td>\n",
       "      <td>0.999371</td>\n",
       "    </tr>\n",
       "    <tr>\n",
       "      <th>b</th>\n",
       "      <td>-1.412353</td>\n",
       "      <td>0.714842</td>\n",
       "    </tr>\n",
       "    <tr>\n",
       "      <th>c</th>\n",
       "      <td>-0.554316</td>\n",
       "      <td>-0.115061</td>\n",
       "    </tr>\n",
       "    <tr>\n",
       "      <th>d</th>\n",
       "      <td>-0.611618</td>\n",
       "      <td>-2.064568</td>\n",
       "    </tr>\n",
       "  </tbody>\n",
       "</table>\n",
       "</div>"
      ],
      "text/plain": [
       "          A         B\n",
       "a  1.210701  0.999371\n",
       "b -1.412353  0.714842\n",
       "c -0.554316 -0.115061\n",
       "d -0.611618 -2.064568"
      ]
     },
     "execution_count": 30,
     "metadata": {},
     "output_type": "execute_result"
    }
   ],
   "source": [
    "index = ['a', 'b', 'c', 'd']\n",
    "df = pandas.DataFrame(array, columns=columns, index=index)\n",
    "df"
   ]
  },
  {
   "cell_type": "markdown",
   "metadata": {},
   "source": [
    "Normal indexing selects columns."
   ]
  },
  {
   "cell_type": "code",
   "execution_count": 31,
   "metadata": {},
   "outputs": [
    {
     "data": {
      "text/plain": [
       "a    1.210701\n",
       "b   -1.412353\n",
       "c   -0.554316\n",
       "d   -0.611618\n",
       "Name: A, dtype: float64"
      ]
     },
     "execution_count": 31,
     "metadata": {},
     "output_type": "execute_result"
    }
   ],
   "source": [
    "df['A']"
   ]
  },
  {
   "cell_type": "markdown",
   "metadata": {},
   "source": [
    "We can use the `loc` attribute to select rows."
   ]
  },
  {
   "cell_type": "code",
   "execution_count": 32,
   "metadata": {},
   "outputs": [
    {
     "data": {
      "text/plain": [
       "A    1.210701\n",
       "B    0.999371\n",
       "Name: a, dtype: float64"
      ]
     },
     "execution_count": 32,
     "metadata": {},
     "output_type": "execute_result"
    }
   ],
   "source": [
    "df.loc['a']"
   ]
  },
  {
   "cell_type": "markdown",
   "metadata": {},
   "source": [
    "If you don't want to use the row labels and prefer to access the rows using integer indices, you can use the `iloc` attribute:"
   ]
  },
  {
   "cell_type": "code",
   "execution_count": 33,
   "metadata": {},
   "outputs": [
    {
     "data": {
      "text/plain": [
       "A    1.210701\n",
       "B    0.999371\n",
       "Name: a, dtype: float64"
      ]
     },
     "execution_count": 33,
     "metadata": {},
     "output_type": "execute_result"
    }
   ],
   "source": [
    "df.iloc[0]"
   ]
  },
  {
   "cell_type": "markdown",
   "metadata": {},
   "source": [
    "`loc` can also take a list of labels."
   ]
  },
  {
   "cell_type": "code",
   "execution_count": 34,
   "metadata": {},
   "outputs": [
    {
     "data": {
      "text/html": [
       "<div>\n",
       "<style scoped>\n",
       "    .dataframe tbody tr th:only-of-type {\n",
       "        vertical-align: middle;\n",
       "    }\n",
       "\n",
       "    .dataframe tbody tr th {\n",
       "        vertical-align: top;\n",
       "    }\n",
       "\n",
       "    .dataframe thead th {\n",
       "        text-align: right;\n",
       "    }\n",
       "</style>\n",
       "<table border=\"1\" class=\"dataframe\">\n",
       "  <thead>\n",
       "    <tr style=\"text-align: right;\">\n",
       "      <th></th>\n",
       "      <th>A</th>\n",
       "      <th>B</th>\n",
       "    </tr>\n",
       "  </thead>\n",
       "  <tbody>\n",
       "    <tr>\n",
       "      <th>a</th>\n",
       "      <td>1.210701</td>\n",
       "      <td>0.999371</td>\n",
       "    </tr>\n",
       "    <tr>\n",
       "      <th>c</th>\n",
       "      <td>-0.554316</td>\n",
       "      <td>-0.115061</td>\n",
       "    </tr>\n",
       "  </tbody>\n",
       "</table>\n",
       "</div>"
      ],
      "text/plain": [
       "          A         B\n",
       "a  1.210701  0.999371\n",
       "c -0.554316 -0.115061"
      ]
     },
     "execution_count": 34,
     "metadata": {},
     "output_type": "execute_result"
    }
   ],
   "source": [
    "indices = ['a', 'c']\n",
    "df.loc[indices]"
   ]
  },
  {
   "cell_type": "markdown",
   "metadata": {},
   "source": [
    "If you provide a slice of labels, `DataFrame` uses it to select rows."
   ]
  },
  {
   "cell_type": "code",
   "execution_count": 35,
   "metadata": {},
   "outputs": [
    {
     "data": {
      "text/html": [
       "<div>\n",
       "<style scoped>\n",
       "    .dataframe tbody tr th:only-of-type {\n",
       "        vertical-align: middle;\n",
       "    }\n",
       "\n",
       "    .dataframe tbody tr th {\n",
       "        vertical-align: top;\n",
       "    }\n",
       "\n",
       "    .dataframe thead th {\n",
       "        text-align: right;\n",
       "    }\n",
       "</style>\n",
       "<table border=\"1\" class=\"dataframe\">\n",
       "  <thead>\n",
       "    <tr style=\"text-align: right;\">\n",
       "      <th></th>\n",
       "      <th>A</th>\n",
       "      <th>B</th>\n",
       "    </tr>\n",
       "  </thead>\n",
       "  <tbody>\n",
       "    <tr>\n",
       "      <th>a</th>\n",
       "      <td>1.210701</td>\n",
       "      <td>0.999371</td>\n",
       "    </tr>\n",
       "    <tr>\n",
       "      <th>b</th>\n",
       "      <td>-1.412353</td>\n",
       "      <td>0.714842</td>\n",
       "    </tr>\n",
       "    <tr>\n",
       "      <th>c</th>\n",
       "      <td>-0.554316</td>\n",
       "      <td>-0.115061</td>\n",
       "    </tr>\n",
       "  </tbody>\n",
       "</table>\n",
       "</div>"
      ],
      "text/plain": [
       "          A         B\n",
       "a  1.210701  0.999371\n",
       "b -1.412353  0.714842\n",
       "c -0.554316 -0.115061"
      ]
     },
     "execution_count": 35,
     "metadata": {},
     "output_type": "execute_result"
    }
   ],
   "source": [
    "df['a':'c']"
   ]
  },
  {
   "cell_type": "markdown",
   "metadata": {},
   "source": [
    "If you provide a slice of integers, `DataFrame` selects rows by integer index."
   ]
  },
  {
   "cell_type": "code",
   "execution_count": 36,
   "metadata": {},
   "outputs": [
    {
     "data": {
      "text/html": [
       "<div>\n",
       "<style scoped>\n",
       "    .dataframe tbody tr th:only-of-type {\n",
       "        vertical-align: middle;\n",
       "    }\n",
       "\n",
       "    .dataframe tbody tr th {\n",
       "        vertical-align: top;\n",
       "    }\n",
       "\n",
       "    .dataframe thead th {\n",
       "        text-align: right;\n",
       "    }\n",
       "</style>\n",
       "<table border=\"1\" class=\"dataframe\">\n",
       "  <thead>\n",
       "    <tr style=\"text-align: right;\">\n",
       "      <th></th>\n",
       "      <th>A</th>\n",
       "      <th>B</th>\n",
       "    </tr>\n",
       "  </thead>\n",
       "  <tbody>\n",
       "    <tr>\n",
       "      <th>a</th>\n",
       "      <td>1.210701</td>\n",
       "      <td>0.999371</td>\n",
       "    </tr>\n",
       "    <tr>\n",
       "      <th>b</th>\n",
       "      <td>-1.412353</td>\n",
       "      <td>0.714842</td>\n",
       "    </tr>\n",
       "  </tbody>\n",
       "</table>\n",
       "</div>"
      ],
      "text/plain": [
       "          A         B\n",
       "a  1.210701  0.999371\n",
       "b -1.412353  0.714842"
      ]
     },
     "execution_count": 36,
     "metadata": {},
     "output_type": "execute_result"
    }
   ],
   "source": [
    "df[0:2]"
   ]
  },
  {
   "cell_type": "markdown",
   "metadata": {},
   "source": [
    "But notice that one method includes the last elements of the slice and one does not.\n",
    "\n",
    "In general, I recommend giving labels to the rows and names to the columns, and using them consistently."
   ]
  },
  {
   "cell_type": "markdown",
   "metadata": {
    "collapsed": true
   },
   "source": [
    "## Exercises"
   ]
  },
  {
   "cell_type": "markdown",
   "metadata": {},
   "source": [
    "**Exercise:** Something like the class size paradox appears if you survey children and ask how many children are in their family.  \n",
    "Families with many children are more likely to appear in your sample, and families with no children have no chance to be in the sample.\n",
    "\n",
    "Use the NSFG respondent variable `numkdhh` to construct the actual distribution for the number of children under 18 in the respondents' households.\n",
    "\n",
    "Now compute the biased distribution we would see if we surveyed the children and asked them how many children under 18 (including themselves) are in their household.\n",
    "\n",
    "Plot the actual and biased distributions, and compute their means."
   ]
  },
  {
   "cell_type": "code",
<<<<<<< HEAD
   "execution_count": 4,
=======
   "execution_count": 37,
>>>>>>> 83d17fb97db500d5d58e10ddc2d849519e2a25e0
   "metadata": {},
   "outputs": [],
   "source": [
    "resp = nsfg.ReadFemResp()"
   ]
  },
  {
   "cell_type": "code",
<<<<<<< HEAD
   "execution_count": 5,
=======
   "execution_count": 65,
>>>>>>> 83d17fb97db500d5d58e10ddc2d849519e2a25e0
   "metadata": {},
   "outputs": [
    {
     "data": {
      "image/png": "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\n",
      "text/plain": [
       "<Figure size 432x288 with 1 Axes>"
      ]
     },
     "metadata": {
      "needs_background": "light"
     },
     "output_type": "display_data"
    }
   ],
   "source": [
    "# Solution goes here\n",
    "unbiased_pmf = thinkstats2.Pmf(resp.numkdhh, label='actual')\n",
    "\n",
    "# Solution goes here\n",
    "biased_pmf = unbiased_pmf.Copy(label='biased')\n",
    "for x, p in biased_pmf.Items():\n",
    "    biased_pmf[x] *= x\n",
    "    biased_pmf.Normalize()\n",
    "thinkplot.Pmf(biased_pmf)\n",
    "thinkplot.Pmf(unbiased_pmf)\n",
    "thinkplot.preplot(2)\n",
    "thinkplot.Config(xlabel='Household Size', ylabel='frequency')"
   ]
  },
  {
   "cell_type": "code",
<<<<<<< HEAD
   "execution_count": 6,
=======
   "execution_count": 57,
>>>>>>> 83d17fb97db500d5d58e10ddc2d849519e2a25e0
   "metadata": {},
   "outputs": [
    {
     "data": {
      "text/plain": [
       "1.024205155043831"
      ]
     },
<<<<<<< HEAD
     "execution_count": 6,
=======
     "execution_count": 57,
>>>>>>> 83d17fb97db500d5d58e10ddc2d849519e2a25e0
     "metadata": {},
     "output_type": "execute_result"
    }
   ],
   "source": [
    "unbiased_pmf.Mean()"
   ]
  },
  {
   "cell_type": "code",
<<<<<<< HEAD
   "execution_count": 7,
   "metadata": {
    "scrolled": true
   },
=======
   "execution_count": 58,
   "metadata": {},
>>>>>>> 83d17fb97db500d5d58e10ddc2d849519e2a25e0
   "outputs": [
    {
     "data": {
      "text/plain": [
       "2.4036791006642817"
      ]
     },
<<<<<<< HEAD
     "execution_count": 7,
=======
     "execution_count": 58,
>>>>>>> 83d17fb97db500d5d58e10ddc2d849519e2a25e0
     "metadata": {},
     "output_type": "execute_result"
    }
   ],
   "source": [
    "biased_pmf.Mean()"
   ]
  },
  {
   "cell_type": "markdown",
   "metadata": {},
   "source": [
    "**Exercise:** I started this book with the question, \"Are first babies more likely to be late?\" To address it, I computed the difference in means between groups of babies, but I ignored the possibility that there might be a difference between first babies and others for the same woman.\n",
    "\n",
    "To address this version of the question, select respondents who have at least two live births and compute pairwise differences. Does this formulation of the question yield a different result?\n",
    "\n",
    "Hint: use `nsfg.MakePregMap`:"
   ]
  },
  {
   "cell_type": "code",
   "execution_count": 43,
   "metadata": {},
   "outputs": [],
   "source": [
    "live, firsts, others = first.MakeFrames()"
   ]
  },
  {
   "cell_type": "code",
   "execution_count": 59,
   "metadata": {
    "collapsed": true
   },
   "outputs": [
    {
     "data": {
      "text/plain": [
       "defaultdict(list,\n",
       "            {1: [0, 1],\n",
       "             2: [2, 3, 4],\n",
       "             6: [5, 6, 7],\n",
       "             7: [8, 9],\n",
       "             12: [10],\n",
       "             14: [11, 12],\n",
       "             15: [15, 16],\n",
       "             18: [17],\n",
       "             21: [19, 20],\n",
       "             23: [21],\n",
       "             24: [23, 24, 25],\n",
       "             28: [26],\n",
       "             31: [27, 28, 29],\n",
       "             36: [31],\n",
       "             38: [32, 33, 34],\n",
       "             39: [35],\n",
       "             44: [39, 40],\n",
       "             46: [42, 43],\n",
       "             49: [44, 47],\n",
       "             51: [48, 49],\n",
       "             57: [52, 53, 54],\n",
       "             60: [55, 56],\n",
       "             63: [58, 59],\n",
       "             69: [60],\n",
       "             70: [62, 64],\n",
       "             71: [65],\n",
       "             72: [67],\n",
       "             73: [68, 69],\n",
       "             77: [70, 71],\n",
       "             80: [72, 74, 75, 76],\n",
       "             81: [77],\n",
       "             86: [78, 79, 80],\n",
       "             90: [82],\n",
       "             91: [83, 87, 88, 89],\n",
       "             92: [90, 91, 92],\n",
       "             95: [94],\n",
       "             101: [95, 96],\n",
       "             106: [97, 98, 99],\n",
       "             114: [100],\n",
       "             115: [101],\n",
       "             118: [104, 105, 106],\n",
       "             119: [107, 108],\n",
       "             123: [110],\n",
       "             132: [113],\n",
       "             135: [114],\n",
       "             138: [115],\n",
       "             139: [116, 117],\n",
       "             142: [118, 119, 120, 121],\n",
       "             145: [124, 126, 127, 129],\n",
       "             149: [130, 131, 132],\n",
       "             150: [133, 134, 135, 136, 137, 138],\n",
       "             151: [139],\n",
       "             152: [140, 142, 143],\n",
       "             153: [147, 148],\n",
       "             156: [149],\n",
       "             159: [150, 151],\n",
       "             160: [154, 155, 156],\n",
       "             172: [157, 158, 159],\n",
       "             173: [160],\n",
       "             176: [161, 162],\n",
       "             181: [163, 164],\n",
       "             183: [165, 166],\n",
       "             184: [167],\n",
       "             186: [168, 169],\n",
       "             190: [170, 171, 172, 174],\n",
       "             193: [175, 176],\n",
       "             209: [178],\n",
       "             210: [180, 181, 182],\n",
       "             213: [184, 185],\n",
       "             215: [186, 187],\n",
       "             218: [188, 190],\n",
       "             219: [191],\n",
       "             222: [193],\n",
       "             227: [204, 205],\n",
       "             230: [206, 207],\n",
       "             234: [208, 209],\n",
       "             235: [210],\n",
       "             238: [211],\n",
       "             244: [212, 213, 214],\n",
       "             245: [215, 216],\n",
       "             246: [217, 218, 219, 220],\n",
       "             247: [222],\n",
       "             248: [223, 224, 225],\n",
       "             249: [226, 228],\n",
       "             251: [229, 230],\n",
       "             252: [233, 234],\n",
       "             253: [237, 238],\n",
       "             254: [239, 240, 241],\n",
       "             255: [245, 246],\n",
       "             256: [247, 248, 249],\n",
       "             259: [251, 252],\n",
       "             263: [253, 256],\n",
       "             269: [258, 259, 260, 261],\n",
       "             275: [262],\n",
       "             277: [263, 264, 265],\n",
       "             278: [267, 268, 269, 270, 271, 272, 273],\n",
       "             281: [274, 275, 276],\n",
       "             284: [277, 278, 279, 280, 281],\n",
       "             285: [282],\n",
       "             287: [285, 286, 287],\n",
       "             288: [288, 289, 290],\n",
       "             299: [299],\n",
       "             300: [305],\n",
       "             302: [306],\n",
       "             309: [311, 313],\n",
       "             314: [314, 315, 316, 317, 318],\n",
       "             315: [321, 322],\n",
       "             319: [323, 324, 325, 326],\n",
       "             320: [327, 328, 329],\n",
       "             324: [330, 334],\n",
       "             325: [335, 336],\n",
       "             327: [338],\n",
       "             328: [339, 340],\n",
       "             334: [341, 343, 346],\n",
       "             336: [347, 348, 349],\n",
       "             340: [350, 351, 352, 353],\n",
       "             343: [354, 356],\n",
       "             344: [357, 358],\n",
       "             348: [359, 360, 361],\n",
       "             349: [362, 363],\n",
       "             350: [365, 366, 367],\n",
       "             354: [368, 369],\n",
       "             356: [370, 371],\n",
       "             357: [374],\n",
       "             361: [375],\n",
       "             362: [377, 378],\n",
       "             364: [380],\n",
       "             365: [381, 382, 383, 384],\n",
       "             368: [385, 386, 388],\n",
       "             372: [389, 392, 393],\n",
       "             374: [395],\n",
       "             379: [398, 399],\n",
       "             382: [402],\n",
       "             383: [404, 405],\n",
       "             385: [408, 409, 410],\n",
       "             390: [411, 413],\n",
       "             403: [416],\n",
       "             407: [419],\n",
       "             408: [421],\n",
       "             413: [423, 428, 429],\n",
       "             415: [433, 435, 436, 437],\n",
       "             416: [438],\n",
       "             418: [440, 441],\n",
       "             419: [443, 444],\n",
       "             420: [447, 448],\n",
       "             425: [451],\n",
       "             427: [452],\n",
       "             429: [455],\n",
       "             432: [458],\n",
       "             434: [459],\n",
       "             437: [461],\n",
       "             438: [463, 464, 465, 466],\n",
       "             442: [468],\n",
       "             444: [470, 473, 474],\n",
       "             445: [475],\n",
       "             451: [477, 478],\n",
       "             455: [481],\n",
       "             457: [485],\n",
       "             459: [487, 488, 489],\n",
       "             465: [492, 493],\n",
       "             468: [496],\n",
       "             472: [497],\n",
       "             473: [498, 499, 500],\n",
       "             478: [501, 502],\n",
       "             479: [503, 504],\n",
       "             480: [505],\n",
       "             481: [506, 507, 508, 509, 510, 511, 512],\n",
       "             491: [514, 515],\n",
       "             494: [517, 518],\n",
       "             497: [520],\n",
       "             505: [521, 523],\n",
       "             506: [524, 525],\n",
       "             509: [527, 528, 529],\n",
       "             510: [530, 532],\n",
       "             512: [534],\n",
       "             514: [535, 536],\n",
       "             515: [540, 541, 542],\n",
       "             519: [543],\n",
       "             520: [546, 547, 548],\n",
       "             522: [549],\n",
       "             523: [550, 551, 552],\n",
       "             530: [554, 556],\n",
       "             535: [559],\n",
       "             539: [561],\n",
       "             540: [562, 563, 564, 565],\n",
       "             541: [566],\n",
       "             542: [567, 570],\n",
       "             548: [573],\n",
       "             551: [574, 576],\n",
       "             552: [577, 578],\n",
       "             553: [579, 580],\n",
       "             555: [582],\n",
       "             556: [583],\n",
       "             560: [584, 585],\n",
       "             562: [590],\n",
       "             564: [591, 592],\n",
       "             567: [594, 595],\n",
       "             571: [597, 598],\n",
       "             572: [599, 601],\n",
       "             573: [602, 603],\n",
       "             574: [606, 609, 610],\n",
       "             576: [613],\n",
       "             578: [614],\n",
       "             580: [615, 616],\n",
       "             581: [617, 618, 619, 620],\n",
       "             586: [624, 625, 626, 627],\n",
       "             587: [628, 629],\n",
       "             589: [630, 631, 633],\n",
       "             590: [634, 635],\n",
       "             591: [636],\n",
       "             595: [639, 640, 641],\n",
       "             596: [642],\n",
       "             599: [644],\n",
       "             600: [645],\n",
       "             601: [647, 648, 649, 650, 651],\n",
       "             602: [656],\n",
       "             606: [657, 658, 659, 660, 661],\n",
       "             607: [662, 663],\n",
       "             609: [664, 665],\n",
       "             620: [668],\n",
       "             622: [669],\n",
       "             623: [671],\n",
       "             627: [672],\n",
       "             628: [673, 674],\n",
       "             632: [676, 677],\n",
       "             635: [680, 681, 682, 683, 684, 685, 687, 688],\n",
       "             637: [689, 690, 691],\n",
       "             642: [693, 694, 695],\n",
       "             652: [697],\n",
       "             653: [699, 700],\n",
       "             656: [703, 704],\n",
       "             657: [705, 706, 707],\n",
       "             659: [708, 709, 710],\n",
       "             663: [713],\n",
       "             664: [714, 715],\n",
       "             665: [716, 717],\n",
       "             668: [719, 720],\n",
       "             671: [721],\n",
       "             676: [725],\n",
       "             678: [726],\n",
       "             679: [727, 728],\n",
       "             681: [730],\n",
       "             684: [731, 732],\n",
       "             685: [734],\n",
       "             686: [738, 739],\n",
       "             689: [741, 742],\n",
       "             693: [743, 744, 745, 746],\n",
       "             695: [747, 749],\n",
       "             701: [751, 753, 754, 755],\n",
       "             702: [756, 757, 760, 761, 762, 763],\n",
       "             704: [764],\n",
       "             706: [765],\n",
       "             707: [766, 767, 768, 769, 770],\n",
       "             708: [772, 774],\n",
       "             710: [776, 777, 778],\n",
       "             711: [779],\n",
       "             712: [780, 781, 782],\n",
       "             714: [784],\n",
       "             723: [785, 786],\n",
       "             724: [792],\n",
       "             732: [793, 794],\n",
       "             734: [795, 796],\n",
       "             737: [798, 799, 800],\n",
       "             739: [802],\n",
       "             743: [804, 805, 807],\n",
       "             745: [808, 809, 810, 811, 812],\n",
       "             750: [813, 814],\n",
       "             752: [816, 817],\n",
       "             755: [819],\n",
       "             756: [822, 823, 824],\n",
       "             758: [826, 828],\n",
       "             759: [829, 830],\n",
       "             760: [832, 833],\n",
       "             768: [841],\n",
       "             772: [842],\n",
       "             775: [845],\n",
       "             776: [846, 847],\n",
       "             778: [848],\n",
       "             781: [850],\n",
       "             782: [851, 853],\n",
       "             784: [854, 855, 856],\n",
       "             785: [857],\n",
       "             786: [859],\n",
       "             787: [861],\n",
       "             788: [863],\n",
       "             789: [864],\n",
       "             790: [866, 867, 868],\n",
       "             792: [869],\n",
       "             796: [870, 871, 872, 873, 874],\n",
       "             804: [877, 878],\n",
       "             805: [879, 880, 881, 882],\n",
       "             808: [885, 887],\n",
       "             810: [888],\n",
       "             811: [889, 890, 891],\n",
       "             814: [893, 894, 895],\n",
       "             816: [896, 897],\n",
       "             820: [900, 901, 902, 903],\n",
       "             822: [905],\n",
       "             826: [907],\n",
       "             827: [909, 910, 911],\n",
       "             829: [912, 913],\n",
       "             830: [914, 915, 916],\n",
       "             832: [917, 919],\n",
       "             835: [924],\n",
       "             836: [925, 926],\n",
       "             843: [928, 929],\n",
       "             844: [931, 932, 933, 934, 935],\n",
       "             845: [936, 937, 938, 939, 940, 941],\n",
       "             847: [944, 945],\n",
       "             848: [946, 947, 948, 949],\n",
       "             849: [950, 951, 952, 953],\n",
       "             852: [956, 957, 958, 959],\n",
       "             854: [960, 961, 962],\n",
       "             859: [963, 964],\n",
       "             861: [965, 967, 968],\n",
       "             862: [969, 970],\n",
       "             863: [971, 972, 973],\n",
       "             865: [978, 979, 980, 981],\n",
       "             867: [982, 983],\n",
       "             868: [984, 985],\n",
       "             872: [987, 988, 989, 990],\n",
       "             874: [991, 992],\n",
       "             876: [994],\n",
       "             877: [998, 1000],\n",
       "             880: [1002],\n",
       "             881: [1003, 1004],\n",
       "             882: [1006, 1007, 1009],\n",
       "             884: [1010, 1011],\n",
       "             886: [1013],\n",
       "             890: [1016],\n",
       "             895: [1017, 1018],\n",
       "             897: [1021, 1022],\n",
       "             899: [1023, 1024],\n",
       "             900: [1025],\n",
       "             901: [1027, 1028, 1029, 1030],\n",
       "             904: [1031, 1032],\n",
       "             910: [1034],\n",
       "             917: [1035],\n",
       "             918: [1036, 1037],\n",
       "             921: [1038, 1039],\n",
       "             928: [1041],\n",
       "             929: [1042, 1044],\n",
       "             930: [1045, 1046],\n",
       "             932: [1048, 1050],\n",
       "             943: [1056],\n",
       "             945: [1057],\n",
       "             947: [1060, 1061],\n",
       "             948: [1062, 1063],\n",
       "             953: [1065, 1066],\n",
       "             954: [1067, 1068, 1070],\n",
       "             959: [1075],\n",
       "             960: [1076],\n",
       "             961: [1077, 1078, 1079, 1080],\n",
       "             966: [1081, 1082, 1083],\n",
       "             967: [1084],\n",
       "             969: [1089, 1090],\n",
       "             971: [1091, 1092],\n",
       "             972: [1094, 1095, 1096],\n",
       "             974: [1097],\n",
       "             980: [1098, 1100, 1102],\n",
       "             984: [1103, 1104],\n",
       "             985: [1105],\n",
       "             989: [1112, 1113, 1114],\n",
       "             990: [1115, 1116],\n",
       "             992: [1118],\n",
       "             996: [1119, 1120],\n",
       "             997: [1121, 1122],\n",
       "             999: [1125],\n",
       "             1000: [1126, 1127, 1129],\n",
       "             1004: [1130],\n",
       "             1005: [1131],\n",
       "             1007: [1133, 1134],\n",
       "             1015: [1139, 1140],\n",
       "             1016: [1142, 1144],\n",
       "             1017: [1145, 1147, 1148],\n",
       "             1025: [1149],\n",
       "             1026: [1151],\n",
       "             1028: [1152],\n",
       "             1029: [1156],\n",
       "             1031: [1160, 1161],\n",
       "             1040: [1163],\n",
       "             1042: [1165, 1166, 1167, 1168, 1169],\n",
       "             1044: [1172, 1173],\n",
       "             1058: [1177, 1178, 1179, 1180, 1181],\n",
       "             1060: [1182],\n",
       "             1061: [1184, 1185],\n",
       "             1062: [1186, 1187, 1188],\n",
       "             1063: [1192],\n",
       "             1064: [1193],\n",
       "             1068: [1194, 1195, 1196],\n",
       "             1069: [1197],\n",
       "             1070: [1198],\n",
       "             1075: [1200, 1203],\n",
       "             1077: [1205],\n",
       "             1084: [1208, 1209],\n",
       "             1086: [1210, 1212, 1213, 1214, 1215],\n",
       "             1087: [1217],\n",
       "             1088: [1218, 1219, 1220],\n",
       "             1089: [1222, 1226],\n",
       "             1090: [1228],\n",
       "             1091: [1229, 1231],\n",
       "             1092: [1233, 1235],\n",
       "             1094: [1236],\n",
       "             1095: [1237],\n",
       "             1098: [1238],\n",
       "             1099: [1240],\n",
       "             1100: [1242, 1243, 1244],\n",
       "             1101: [1245, 1246, 1247],\n",
       "             1107: [1251],\n",
       "             1113: [1253, 1256],\n",
       "             1115: [1257],\n",
       "             1120: [1258, 1259],\n",
       "             1121: [1260, 1262],\n",
       "             1122: [1263],\n",
       "             1123: [1265],\n",
       "             1131: [1271, 1272, 1273],\n",
       "             1134: [1274, 1276],\n",
       "             1138: [1277, 1278, 1279],\n",
       "             1139: [1280],\n",
       "             1140: [1281],\n",
       "             1145: [1282],\n",
       "             1147: [1284, 1285],\n",
       "             1151: [1286, 1287, 1288],\n",
       "             1153: [1289, 1290, 1291],\n",
       "             1159: [1293],\n",
       "             1160: [1294, 1295, 1296],\n",
       "             1161: [1297, 1298],\n",
       "             1164: [1299],\n",
       "             1165: [1302],\n",
       "             1166: [1305],\n",
       "             1167: [1307],\n",
       "             1169: [1309,\n",
       "              1310,\n",
       "              1311,\n",
       "              1312,\n",
       "              1314,\n",
       "              1315,\n",
       "              1316,\n",
       "              1317,\n",
       "              1318,\n",
       "              1319],\n",
       "             1171: [1320, 1321],\n",
       "             1172: [1324],\n",
       "             1176: [1327, 1328, 1329],\n",
       "             1185: [1330, 1332],\n",
       "             1190: [1333, 1335],\n",
       "             1191: [1337, 1338, 1339],\n",
       "             1197: [1343],\n",
       "             1203: [1344, 1345],\n",
       "             1204: [1346, 1347, 1348],\n",
       "             1209: [1350, 1351, 1352],\n",
       "             1210: [1353, 1354, 1355],\n",
       "             1211: [1357, 1359],\n",
       "             1214: [1365, 1366, 1367, 1368, 1370],\n",
       "             1217: [1372],\n",
       "             1218: [1373],\n",
       "             1219: [1376, 1377, 1378],\n",
       "             1223: [1379, 1380],\n",
       "             1226: [1381],\n",
       "             1236: [1384, 1385, 1386],\n",
       "             1237: [1388, 1389],\n",
       "             1239: [1390, 1391],\n",
       "             1241: [1393],\n",
       "             1242: [1395],\n",
       "             1244: [1397, 1399],\n",
       "             1246: [1400, 1401],\n",
       "             1251: [1403, 1404, 1405],\n",
       "             1258: [1408, 1409],\n",
       "             1261: [1412, 1413],\n",
       "             1264: [1414, 1415],\n",
       "             1265: [1416, 1418, 1419],\n",
       "             1268: [1421, 1422],\n",
       "             1275: [1426, 1428],\n",
       "             1277: [1429, 1431, 1433],\n",
       "             1279: [1435, 1436, 1437],\n",
       "             1280: [1439, 1440, 1441, 1443],\n",
       "             1282: [1444, 1445],\n",
       "             1283: [1446, 1447],\n",
       "             1284: [1449, 1450, 1451],\n",
       "             1286: [1452],\n",
       "             1288: [1453, 1455],\n",
       "             1292: [1456, 1457, 1458],\n",
       "             1295: [1460, 1461, 1462, 1463],\n",
       "             1296: [1466, 1467],\n",
       "             1298: [1468],\n",
       "             1302: [1469],\n",
       "             1305: [1473, 1474, 1475],\n",
       "             1307: [1477],\n",
       "             1309: [1481, 1482],\n",
       "             1311: [1483, 1484],\n",
       "             1314: [1485, 1486, 1488],\n",
       "             1315: [1489, 1490],\n",
       "             1319: [1492],\n",
       "             1321: [1494, 1495],\n",
       "             1333: [1496, 1498, 1499],\n",
       "             1338: [1500, 1501, 1502],\n",
       "             1339: [1503, 1504, 1505],\n",
       "             1342: [1507, 1509],\n",
       "             1344: [1511],\n",
       "             1346: [1513, 1515],\n",
       "             1349: [1516, 1518, 1519],\n",
       "             1351: [1520, 1521, 1522, 1523],\n",
       "             1353: [1524],\n",
       "             1359: [1526, 1527, 1529],\n",
       "             1362: [1532, 1534],\n",
       "             1366: [1538, 1539, 1540, 1542],\n",
       "             1373: [1543, 1544],\n",
       "             1384: [1549, 1550, 1551, 1552],\n",
       "             1386: [1553],\n",
       "             1388: [1554, 1555, 1556],\n",
       "             1391: [1557],\n",
       "             1393: [1559, 1560, 1561, 1562],\n",
       "             1396: [1563, 1565, 1566],\n",
       "             1397: [1567, 1568, 1569, 1570],\n",
       "             1398: [1571],\n",
       "             1399: [1572, 1573, 1574, 1575],\n",
       "             1401: [1576, 1577],\n",
       "             1403: [1578, 1579],\n",
       "             1404: [1580],\n",
       "             1405: [1581, 1582],\n",
       "             1406: [1584],\n",
       "             1408: [1585],\n",
       "             1409: [1586],\n",
       "             1410: [1589, 1590, 1591],\n",
       "             1411: [1593, 1594, 1595, 1596],\n",
       "             1414: [1597, 1598, 1599, 1600],\n",
       "             1415: [1601, 1602],\n",
       "             1417: [1605],\n",
       "             1425: [1606],\n",
       "             1426: [1609, 1610],\n",
       "             1432: [1612, 1613],\n",
       "             1434: [1617, 1618, 1619],\n",
       "             1435: [1620, 1621],\n",
       "             1436: [1622, 1623],\n",
       "             1438: [1624],\n",
       "             1440: [1625, 1626, 1627, 1628],\n",
       "             1442: [1629, 1632],\n",
       "             1443: [1633, 1635, 1636, 1637, 1638],\n",
       "             1446: [1639, 1640, 1641],\n",
       "             1447: [1642, 1643],\n",
       "             1448: [1644],\n",
       "             1455: [1645],\n",
       "             1460: [1648, 1649],\n",
       "             1465: [1650, 1652, 1654],\n",
       "             1466: [1655, 1657, 1658, 1659],\n",
       "             1474: [1660],\n",
       "             1476: [1662, 1663],\n",
       "             1477: [1666],\n",
       "             1478: [1668],\n",
       "             1481: [1669, 1670],\n",
       "             1491: [1672, 1673, 1674, 1675],\n",
       "             1493: [1676, 1677],\n",
       "             1494: [1678, 1679, 1680],\n",
       "             1503: [1681, 1682],\n",
       "             1507: [1688],\n",
       "             1510: [1689],\n",
       "             1511: [1690, 1691, 1692],\n",
       "             1512: [1693, 1694],\n",
       "             1513: [1695, 1696],\n",
       "             1515: [1699],\n",
       "             1516: [1700, 1701],\n",
       "             1518: [1703, 1704, 1705, 1706],\n",
       "             1527: [1709, 1710, 1711, 1712],\n",
       "             1535: [1716],\n",
       "             1538: [1719, 1720],\n",
       "             1539: [1721],\n",
       "             1541: [1722, 1723],\n",
       "             1542: [1724, 1725],\n",
       "             1545: [1726, 1727],\n",
       "             1547: [1728],\n",
       "             1548: [1729],\n",
       "             1549: [1731, 1733, 1734],\n",
       "             1555: [1738, 1739],\n",
       "             1556: [1740, 1741],\n",
       "             1558: [1742],\n",
       "             1560: [1743],\n",
       "             1561: [1744, 1745],\n",
       "             1565: [1746, 1747],\n",
       "             1568: [1748],\n",
       "             1570: [1749, 1750],\n",
       "             1571: [1751],\n",
       "             1572: [1752, 1754],\n",
       "             1575: [1756, 1757, 1758],\n",
       "             1577: [1760],\n",
       "             1579: [1762],\n",
       "             1582: [1763, 1764],\n",
       "             1588: [1766, 1767, 1768],\n",
       "             1595: [1769, 1770, 1771],\n",
       "             1596: [1773],\n",
       "             1597: [1780, 1785, 1790],\n",
       "             1598: [1791, 1792],\n",
       "             1599: [1793, 1794],\n",
       "             1606: [1795, 1796, 1797, 1798],\n",
       "             1611: [1801, 1802, 1803, 1804, 1805, 1806, 1807],\n",
       "             1618: [1808, 1809, 1810],\n",
       "             1621: [1812, 1813],\n",
       "             1626: [1816, 1817],\n",
       "             1628: [1818, 1819],\n",
       "             1629: [1821, 1822, 1823],\n",
       "             1630: [1825, 1826, 1827],\n",
       "             1633: [1829],\n",
       "             1636: [1831, 1833, 1834],\n",
       "             1639: [1840, 1841],\n",
       "             1641: [1842],\n",
       "             1642: [1843, 1844],\n",
       "             1647: [1846],\n",
       "             1649: [1847, 1849],\n",
       "             1652: [1851, 1852, 1853, 1855],\n",
       "             1654: [1858, 1859],\n",
       "             1655: [1860, 1862, 1863, 1864, 1865],\n",
       "             1656: [1867, 1868],\n",
       "             1657: [1870],\n",
       "             1658: [1871],\n",
       "             1659: [1874],\n",
       "             1665: [1877],\n",
       "             1666: [1879],\n",
       "             1668: [1880, 1881, 1882],\n",
       "             1670: [1883],\n",
       "             1674: [1885],\n",
       "             1681: [1888, 1890],\n",
       "             1682: [1891, 1892, 1893],\n",
       "             1684: [1894, 1895, 1896, 1897, 1898, 1899],\n",
       "             1685: [1901, 1902, 1903],\n",
       "             1689: [1904, 1905, 1906],\n",
       "             1690: [1908],\n",
       "             1691: [1909],\n",
       "             1692: [1911, 1912, 1913, 1914, 1915, 1916],\n",
       "             1694: [1917, 1918, 1919],\n",
       "             1698: [1923],\n",
       "             1702: [1926, 1928],\n",
       "             1707: [1932, 1933, 1934],\n",
       "             1709: [1939],\n",
       "             1711: [1941, 1944],\n",
       "             1715: [1945],\n",
       "             1717: [1947],\n",
       "             1719: [1950, 1951, 1952, 1953],\n",
       "             1722: [1955, 1956, 1957],\n",
       "             1724: [1959, 1961],\n",
       "             1725: [1963, 1964],\n",
       "             1727: [1965],\n",
       "             1729: [1967, 1968, 1969, 1970, 1971],\n",
       "             1733: [1972, 1974],\n",
       "             1734: [1977],\n",
       "             1735: [1978],\n",
       "             1737: [1979, 1980],\n",
       "             1738: [1981, 1983],\n",
       "             1739: [1984, 1985],\n",
       "             1744: [1988, 1989],\n",
       "             1747: [1992, 1994, 1997, 1998],\n",
       "             1751: [2001, 2002, 2003],\n",
       "             1752: [2004, 2005, 2006, 2007, 2008, 2009],\n",
       "             1753: [2010, 2012, 2013, 2014],\n",
       "             1755: [2015, 2016, 2017, 2018],\n",
       "             1757: [2019],\n",
       "             1761: [2021, 2022, 2024, 2025, 2026, 2027],\n",
       "             1765: [2033],\n",
       "             1766: [2035],\n",
       "             1768: [2036, 2037, 2038],\n",
       "             1774: [2041],\n",
       "             1775: [2042, 2043, 2044],\n",
       "             1777: [2045],\n",
       "             1778: [2048, 2049],\n",
       "             1784: [2050, 2052],\n",
       "             1790: [2053, 2054],\n",
       "             1791: [2055, 2062, 2063],\n",
       "             1805: [2067],\n",
       "             1808: [2068],\n",
       "             1810: [2069, 2070],\n",
       "             1812: [2072, 2073],\n",
       "             1814: [2075, 2076],\n",
       "             1816: [2077, 2078],\n",
       "             1817: [2079, 2080],\n",
       "             1819: [2084, 2086],\n",
       "             1821: [2087],\n",
       "             1825: [2089, 2090, 2091],\n",
       "             1829: [2092, 2093],\n",
       "             1830: [2094],\n",
       "             1831: [2096],\n",
       "             1833: [2098, 2099],\n",
       "             1835: [2100, 2101],\n",
       "             1837: [2102],\n",
       "             1840: [2105, 2106, 2107],\n",
       "             1846: [2108, 2110],\n",
       "             1852: [2113, 2114, 2115],\n",
       "             1855: [2116, 2117, 2118],\n",
       "             1858: [2120],\n",
       "             1873: [2122, 2123, 2126],\n",
       "             1879: [2129],\n",
       "             1880: [2130, 2131],\n",
       "             1886: [2133, 2134],\n",
       "             1891: [2136, 2137],\n",
       "             1892: [2139, 2140, 2141, 2142],\n",
       "             1894: [2145, 2147],\n",
       "             1897: [2149, 2150],\n",
       "             1899: [2151, 2152, 2153],\n",
       "             1901: [2154, 2157],\n",
       "             1904: [2158],\n",
       "             1908: [2159, 2160, 2161, 2162],\n",
       "             1910: [2163, 2164],\n",
       "             1913: [2165],\n",
       "             1914: [2166],\n",
       "             1916: [2167, 2168, 2169],\n",
       "             1920: [2170],\n",
       "             1924: [2173],\n",
       "             1934: [2176, 2177],\n",
       "             1935: [2178, 2180],\n",
       "             1936: [2181],\n",
       "             1944: [2183, 2185, 2186],\n",
       "             1948: [2187],\n",
       "             1951: [2188, 2189],\n",
       "             1962: [2192],\n",
       "             1964: [2194, 2196, 2197, 2198],\n",
       "             1965: [2201],\n",
       "             1966: [2202],\n",
       "             1969: [2203, 2204],\n",
       "             1985: [2206, 2207, 2208, 2209],\n",
       "             1986: [2211, 2212, 2213, 2214],\n",
       "             1988: [2215, 2216],\n",
       "             1992: [2217, 2218],\n",
       "             1994: [2221],\n",
       "             2000: [2227, 2228],\n",
       "             2002: [2229, 2230],\n",
       "             2004: [2232, 2233],\n",
       "             2005: [2234],\n",
       "             2006: [2235],\n",
       "             2007: [2237],\n",
       "             2009: [2238, 2239],\n",
       "             2011: [2243],\n",
       "             2012: [2244, 2245, 2246],\n",
       "             2013: [2248, 2250, 2251],\n",
       "             2015: [2252],\n",
       "             2016: [2253, 2254],\n",
       "             2017: [2256],\n",
       "             2018: [2258, 2260],\n",
       "             2019: [2261, 2262],\n",
       "             2022: [2263, 2264],\n",
       "             2024: [2265],\n",
       "             2026: [2266, 2267],\n",
       "             2027: [2268, 2269],\n",
       "             2030: [2271, 2272],\n",
       "             2031: [2273, 2274],\n",
       "             2041: [2276],\n",
       "             2042: [2279, 2280],\n",
       "             2045: [2282, 2283],\n",
       "             2047: [2284, 2285, 2286, 2287],\n",
       "             2048: [2288, 2289, 2290, 2292],\n",
       "             2049: [2293, 2294],\n",
       "             2050: [2297, 2298],\n",
       "             2052: [2303, 2304],\n",
       "             2054: [2305, 2306, 2307],\n",
       "             2055: [2308, 2309],\n",
       "             2056: [2310, 2311, 2314],\n",
       "             2057: [2316, 2317, 2318],\n",
       "             2059: [2319],\n",
       "             2062: [2320],\n",
       "             2064: [2321],\n",
       "             2065: [2322, 2323, 2326],\n",
       "             2066: [2327, 2328],\n",
       "             2071: [2329],\n",
       "             2072: [2330, 2331],\n",
       "             2076: [2332, 2333, 2334],\n",
       "             2080: [2335, 2338],\n",
       "             2081: [2339],\n",
       "             2083: [2343],\n",
       "             2085: [2344, 2345],\n",
       "             2086: [2346],\n",
       "             2087: [2348, 2349],\n",
       "             2090: [2351],\n",
       "             2091: [2352],\n",
       "             2092: [2353, 2354, 2355],\n",
       "             2096: [2360],\n",
       "             2098: [2361, 2362],\n",
       "             2110: [2363],\n",
       "             2111: [2366, 2367, 2369],\n",
       "             2113: [2370, 2371],\n",
       "             2117: [2372],\n",
       "             2118: [2373, 2374, 2376, 2377],\n",
       "             2119: [2378],\n",
       "             2122: [2379, 2381],\n",
       "             2125: [2382],\n",
       "             2126: [2385, 2388],\n",
       "             2128: [2393],\n",
       "             2129: [2395, 2396],\n",
       "             2133: [2398],\n",
       "             2134: [2400],\n",
       "             2135: [2403, 2405],\n",
       "             2139: [2409, 2410],\n",
       "             2141: [2412, 2413],\n",
       "             2145: [2416, 2417],\n",
       "             2146: [2418],\n",
       "             2149: [2421, 2423],\n",
       "             2153: [2426, 2427, 2428],\n",
       "             2154: [2430],\n",
       "             2155: [2432],\n",
       "             2157: [2435],\n",
       "             2158: [2437],\n",
       "             2160: [2438, 2439],\n",
       "             2162: [2440],\n",
       "             2165: [2441, 2442],\n",
       "             2168: [2443, 2444, 2446],\n",
       "             2170: [2447],\n",
       "             2171: [2448, 2449, 2450, 2451, 2452, 2453],\n",
       "             2175: [2455],\n",
       "             2178: [2457],\n",
       "             2180: [2459, 2460],\n",
       "             2182: [2462],\n",
       "             2183: [2463],\n",
       "             2184: [2464, 2465],\n",
       "             2187: [2466, 2467, 2468],\n",
       "             2188: [2470, 2471],\n",
       "             2190: [2472, 2473, 2474],\n",
       "             2191: [2476, 2478],\n",
       "             2193: [2479, 2480, 2481],\n",
       "             2194: [2482, 2483, 2484],\n",
       "             2195: [2485, 2487, 2489, 2490, 2493, 2495],\n",
       "             2196: [2497],\n",
       "             2200: [2500, 2501],\n",
       "             2204: [2503, 2504],\n",
       "             2211: [2505, 2506, 2507],\n",
       "             2214: [2508, 2509, 2510, 2511, 2512, 2513],\n",
       "             2215: [2514],\n",
       "             2216: [2515, 2516, 2518],\n",
       "             2218: [2519],\n",
       "             2219: [2520],\n",
       "             2220: [2521, 2522],\n",
       "             2222: [2523, 2524],\n",
       "             2227: [2527],\n",
       "             2231: [2529, 2530],\n",
       "             2233: [2531, 2533],\n",
       "             2234: [2534],\n",
       "             2237: [2535, 2536],\n",
       "             2239: [2537, 2538],\n",
       "             2245: [2539, 2540],\n",
       "             2246: [2541, 2542, 2543, 2544],\n",
       "             2247: [2546],\n",
       "             2250: [2547],\n",
       "             2252: [2548, 2549, 2550, 2551, 2552],\n",
       "             2253: [2554],\n",
       "             2255: [2555, 2556],\n",
       "             2259: [2557, 2558, 2559],\n",
       "             2260: [2561],\n",
       "             2261: [2564],\n",
       "             2263: [2566, 2567],\n",
       "             2264: [2568],\n",
       "             2265: [2576],\n",
       "             2266: [2579, 2580, 2581],\n",
       "             2271: [2582],\n",
       "             2274: [2584],\n",
       "             2276: [2586],\n",
       "             2287: [2590, 2591, 2592],\n",
       "             2288: [2595, 2596, 2597],\n",
       "             2292: [2598, 2599, 2600],\n",
       "             2296: [2601, 2602, 2603, 2604, 2605],\n",
       "             2297: [2608],\n",
       "             2298: [2610, 2611, 2612, 2613],\n",
       "             2300: [2614],\n",
       "             2301: [2615],\n",
       "             2302: [2616, 2617, 2618],\n",
       "             2303: [2621, 2622],\n",
       "             2305: [2624],\n",
       "             2306: [2625, 2626],\n",
       "             2307: [2630],\n",
       "             2310: [2632, 2633],\n",
       "             2311: [2637, 2638],\n",
       "             2312: [2640, 2642],\n",
       "             2313: [2643, 2644],\n",
       "             2318: [2645, 2646, 2647],\n",
       "             2320: [2649],\n",
       "             2323: [2650, 2651],\n",
       "             2326: [2653, 2654],\n",
       "             2329: [2656, 2657, 2658],\n",
       "             2334: [2661, 2662],\n",
       "             2336: [2664, 2665],\n",
       "             2338: [2666, 2668, 2670],\n",
       "             2339: [2671],\n",
       "             2345: [2672, 2673],\n",
       "             2346: [2675, 2676],\n",
       "             2348: [2678, 2679],\n",
       "             2349: [2680],\n",
       "             2350: [2681],\n",
       "             2361: [2686, 2687],\n",
       "             2362: [2688, 2689, 2690],\n",
       "             2365: [2691],\n",
       "             2366: [2692, 2693],\n",
       "             2369: [2696],\n",
       "             2370: [2698, 2699, 2700],\n",
       "             2376: [2701, 2702],\n",
       "             2379: [2703, 2704],\n",
       "             2380: [2706, 2707, 2708],\n",
       "             2383: [2709, 2710],\n",
       "             2385: [2711],\n",
       "             2396: [2715, 2716, 2717, 2718],\n",
       "             2397: [2719, 2720],\n",
       "             2401: [2721, 2722],\n",
       "             2402: [2723, 2725],\n",
       "             2406: [2730],\n",
       "             2408: [2731, 2732, 2733, 2734, 2737, 2738, 2739],\n",
       "             2410: [2740],\n",
       "             2412: [2741, 2742, 2743, 2745],\n",
       "             2421: [2747, 2748, 2749, 2750, 2751],\n",
       "             2422: [2753, 2754],\n",
       "             2425: [2756, 2757, 2758],\n",
       "             2426: [2759, 2760, 2761],\n",
       "             2429: [2763, 2764],\n",
       "             2430: [2765],\n",
       "             2433: [2769, 2770],\n",
       "             2437: [2771, 2772],\n",
       "             2439: [2775, 2776, 2777],\n",
       "             2440: [2778],\n",
       "             2447: [2781],\n",
       "             2448: [2782],\n",
       "             2449: [2783],\n",
       "             2452: [2786, 2787],\n",
       "             2456: [2788],\n",
       "             2457: [2789, 2790],\n",
       "             2461: [2791, 2792],\n",
       "             2463: [2797, 2798],\n",
       "             2469: [2799],\n",
       "             2472: [2801],\n",
       "             2473: [2803, 2804],\n",
       "             2474: [2806, 2807, 2808, 2809],\n",
       "             2475: [2810, 2812, 2813, 2814, 2815],\n",
       "             2476: [2816, 2818],\n",
       "             2478: [2819, 2820],\n",
       "             2479: [2822, 2823],\n",
       "             2486: [2824, 2825],\n",
       "             2490: [2826, 2827],\n",
       "             2492: [2829],\n",
       "             2494: [2830, 2831],\n",
       "             2495: [2832, 2833],\n",
       "             2500: [2834],\n",
       "             2503: [2835],\n",
       "             2506: [2837, 2838, 2839],\n",
       "             2507: [2840],\n",
       "             2514: [2843, 2844],\n",
       "             2519: [2848],\n",
       "             2520: [2851, 2852],\n",
       "             2525: [2853, 2854, 2855, 2856],\n",
       "             2527: [2857, 2859],\n",
       "             2530: [2860, 2861],\n",
       "             2538: [2864, 2865, 2866],\n",
       "             2539: [2867],\n",
       "             2545: [2869, 2870, 2871, 2872],\n",
       "             2550: [2874],\n",
       "             2551: [2876, 2877],\n",
       "             2553: [2880, 2881, 2882],\n",
       "             2554: [2883, 2884],\n",
       "             2560: [2887, 2888],\n",
       "             2561: [2889],\n",
       "             2564: [2891],\n",
       "             2565: [2894, 2896],\n",
       "             2568: [2898, 2899, 2900, 2901],\n",
       "             2570: [2902, 2903, 2904],\n",
       "             2571: [2906, 2908],\n",
       "             2588: [2911, 2912],\n",
       "             2596: [2913, 2914],\n",
       "             2601: [2917, 2918],\n",
       "             2604: [2919, 2920, 2921],\n",
       "             2605: [2923, 2925, 2926],\n",
       "             2608: [2928, 2929],\n",
       "             2609: [2930, 2931, 2932],\n",
       "             2612: [2934, 2935, 2936],\n",
       "             2613: [2937, 2939, 2941],\n",
       "             2616: [2942, 2943],\n",
       "             2617: [2944],\n",
       "             2618: [2946],\n",
       "             2621: [2949],\n",
       "             2623: [2953],\n",
       "             2624: [2956, 2957, 2958, 2960, 2961],\n",
       "             2640: [2968, 2969],\n",
       "             2641: [2971],\n",
       "             2642: [2974, 2975, 2976],\n",
       "             2643: [2977, 2980, 2981, 2983],\n",
       "             2645: [2984, 2985],\n",
       "             2648: [2986, 2987, 2988, 2989],\n",
       "             2654: [2990, 2991, 2992],\n",
       "             2655: [2993],\n",
       "             2658: [2996, 2998],\n",
       "             2660: [3001],\n",
       "             2666: [3004, 3005, 3006, 3007, 3008],\n",
       "             2667: [3009, 3010, 3011],\n",
       "             2671: [3012],\n",
       "             2675: [3013, 3014, 3015],\n",
       "             2677: [3016],\n",
       "             2678: [3017, 3018, 3019, 3020, 3021, 3022, 3023],\n",
       "             2679: [3027, 3028, 3029, 3030],\n",
       "             2680: [3031, 3032, 3033],\n",
       "             2682: [3035],\n",
       "             2684: [3037],\n",
       "             2688: [3042, 3043],\n",
       "             2697: [3045],\n",
       "             2698: [3047, 3048],\n",
       "             2702: [3050, 3051],\n",
       "             2704: [3053, 3054],\n",
       "             2706: [3056, 3057],\n",
       "             2707: [3058, 3060],\n",
       "             2709: [3061, 3062],\n",
       "             2710: [3065],\n",
       "             2715: [3066],\n",
       "             2719: [3068, 3069, 3070],\n",
       "             2721: [3072, 3073, 3074],\n",
       "             2725: [3075, 3076, 3077],\n",
       "             2727: [3078, 3079],\n",
       "             2730: [3080, 3083, 3084],\n",
       "             2732: [3085, 3086, 3089, 3090, 3091],\n",
       "             2733: [3092, 3093],\n",
       "             2734: [3094],\n",
       "             2741: [3098, 3100, 3101, 3102],\n",
       "             2745: [3105, 3106, 3107, 3108],\n",
       "             ...})"
      ]
     },
     "execution_count": 59,
     "metadata": {},
     "output_type": "execute_result"
    }
   ],
   "source": [
    "preg_map = nsfg.MakePregMap(live)\n",
    "preg_count={}\n",
    "for k, v in preg_map.Items():\n",
    "    preg_count[k] = len(v)\n"
   ]
  },
  {
   "cell_type": "code",
   "execution_count": 45,
   "metadata": {},
   "outputs": [],
   "source": [
    "# Solution goes here"
   ]
  },
  {
   "cell_type": "code",
   "execution_count": 46,
   "metadata": {},
   "outputs": [],
   "source": [
    "# Solution goes here"
   ]
  },
  {
   "cell_type": "code",
   "execution_count": 47,
   "metadata": {},
   "outputs": [],
   "source": [
    "# Solution goes here"
   ]
  },
  {
   "cell_type": "markdown",
   "metadata": {},
   "source": [
    "**Exercise:** In most foot races, everyone starts at the same time. If you are a fast runner, you usually pass a lot of people at the beginning of the race, but after a few miles everyone around you is going at the same speed.\n",
    "When I ran a long-distance (209 miles) relay race for the first time, I noticed an odd phenomenon: when I overtook another runner, I was usually much faster, and when another runner overtook me, he was usually much faster.\n",
    "\n",
    "At first I thought that the distribution of speeds might be bimodal; that is, there were many slow runners and many fast runners, but few at my speed.\n",
    "\n",
    "Then I realized that I was the victim of a bias similar to the effect of class size. The race was unusual in two ways: it used a staggered start, so teams started at different times; also, many teams included runners at different levels of ability.\n",
    "\n",
    "As a result, runners were spread out along the course with little relationship between speed and location. When I joined the race, the runners near me were (pretty much) a random sample of the runners in the race.\n",
    "\n",
    "So where does the bias come from? During my time on the course, the chance of overtaking a runner, or being overtaken, is proportional to the difference in our speeds. I am more likely to catch a slow runner, and more likely to be caught by a fast runner. But runners at the same speed are unlikely to see each other.\n",
    "\n",
    "Write a function called `ObservedPmf` that takes a `Pmf` representing the actual distribution of runners’ speeds, and the speed of a running observer, and returns a new `Pmf` representing the distribution of runners’ speeds as seen by the observer.\n",
    "\n",
    "To test your function, you can use `relay.py`, which reads the results from the James Joyce Ramble 10K in Dedham MA and converts the pace of each runner to mph.\n",
    "\n",
    "Compute the distribution of speeds you would observe if you ran a relay race at 7 mph with this group of runners."
   ]
  },
  {
   "cell_type": "code",
   "execution_count": 48,
   "metadata": {},
   "outputs": [],
   "source": [
    "import relay\n",
    "\n",
    "results = relay.ReadResults()\n",
    "speeds = relay.GetSpeeds(results)\n",
    "speeds = relay.BinData(speeds, 3, 12, 100)"
   ]
  },
  {
   "cell_type": "code",
   "execution_count": 49,
   "metadata": {},
   "outputs": [
    {
     "data": {
      "image/png": "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\n",
      "text/plain": [
       "<Figure size 432x288 with 1 Axes>"
      ]
     },
     "metadata": {},
     "output_type": "display_data"
    }
   ],
   "source": [
    "pmf = thinkstats2.Pmf(speeds, 'actual speeds')\n",
    "thinkplot.Pmf(pmf)\n",
    "thinkplot.Config(xlabel='Speed (mph)', ylabel='PMF')"
   ]
  },
  {
   "cell_type": "code",
   "execution_count": 50,
   "metadata": {},
   "outputs": [],
   "source": [
    "# Solution goes here"
   ]
  },
  {
   "cell_type": "code",
   "execution_count": 51,
   "metadata": {},
   "outputs": [],
   "source": [
    "# Solution goes here"
   ]
  },
  {
   "cell_type": "code",
   "execution_count": null,
   "metadata": {},
   "outputs": [],
   "source": []
  }
 ],
 "metadata": {
  "kernelspec": {
   "display_name": "Python 3",
   "language": "python",
   "name": "python3"
  },
  "language_info": {
   "codemirror_mode": {
    "name": "ipython",
    "version": 3
   },
   "file_extension": ".py",
   "mimetype": "text/x-python",
   "name": "python",
   "nbconvert_exporter": "python",
   "pygments_lexer": "ipython3",
   "version": "3.7.4"
  }
 },
 "nbformat": 4,
 "nbformat_minor": 1
}
