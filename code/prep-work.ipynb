{
 "cells": [
  {
   "cell_type": "markdown",
   "metadata": {},
   "source": [
    "# Packages used in the book\n",
    "* **pandas** for representing and analyzing data, http://pandas.pydata.org/;  \n",
    "* **NumPy** for basic numerical computation, http://www.numpy.org/;  \n",
    "* **SciPy** for scientific computation including statistics, http://www.scipy.org/;  \n",
    "* **StatsModels** for regression and other statistical analysis, http://statsmodels.sourceforge.net/;  \n",
    "* **matplotlib** for visualization, http://matplotlib.org/.  "
   ]
  },
  {
   "cell_type": "code",
   "execution_count": null,
   "metadata": {},
   "outputs": [],
   "source": []
  }
 ],
 "metadata": {
  "kernelspec": {
   "display_name": "Python 3",
   "language": "python",
   "name": "python3"
  },
  "language_info": {
   "codemirror_mode": {
    "name": "ipython",
    "version": 3
   },
   "file_extension": ".py",
   "mimetype": "text/x-python",
   "name": "python",
   "nbconvert_exporter": "python",
   "pygments_lexer": "ipython3",
   "version": "3.7.4"
  }
 },
 "nbformat": 4,
 "nbformat_minor": 2
}
